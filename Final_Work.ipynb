{
  "cells": [
    {
      "cell_type": "code",
      "execution_count": null,
      "metadata": {
        "id": "eihB7DhJKExf"
      },
      "outputs": [],
      "source": [
        "from google.colab import files\n",
        "import io\n",
        "import numpy as np\n",
        "import pandas as pd\n",
        "import sklearn\n",
        "import scipy\n",
        "import matplotlib.pyplot as plt\n",
        "import seaborn as sns\n",
        "from sklearn.metrics import classification_report,accuracy_score\n",
        "from sklearn.ensemble import IsolationForest\n",
        "from sklearn.neighbors import LocalOutlierFactor\n",
        "from sklearn.svm import OneClassSVM\n",
        "from pylab import rcParams\n",
        "from sklearn import metrics\n",
        "from tensorflow import keras\n",
        "from tensorflow.keras import Sequential\n",
        "from tensorflow.keras.layers import Flatten, Dense, Dropout, BatchNormalization\n",
        "from tensorflow.keras.layers import Conv1D, MaxPool1D\n",
        "from tensorflow.keras.optimizers import Adam\n",
        "from sklearn.model_selection import train_test_split\n",
        "from sklearn.metrics import accuracy_score,confusion_matrix,classification_report\n",
        "from collections import Counter\n",
        "from collections import Counter\n",
        "from sklearn.metrics import f1_score\n",
        "from sklearn.naive_bayes import GaussianNB \n",
        "from sklearn.tree import DecisionTreeClassifier\n",
        "from sklearn.neighbors import KNeighborsClassifier\n",
        "from sklearn.linear_model import LogisticRegression\n",
        "from sklearn.ensemble import RandomForestClassifier\n",
        "from sklearn.preprocessing import StandardScaler\n",
        "# Importing libraries for cross validation\n",
        "from sklearn.model_selection import KFold\n",
        "from sklearn.model_selection import cross_val_score\n",
        "from sklearn.model_selection import GridSearchCV\n",
        "rcParams['figure.figsize'] = 14, 8\n",
        "RANDOM_SEED = 42\n",
        "LABELS = [\"Normal\", \"Fraud\"]"
      ]
    },
    {
      "cell_type": "code",
      "execution_count": null,
      "metadata": {
        "colab": {
          "base_uri": "https://localhost:8080/"
        },
        "id": "USY43-bDRpMN",
        "outputId": "73d8ffc6-e3fc-4749-9302-1aab20501e10"
      },
      "outputs": [
        {
          "output_type": "stream",
          "name": "stdout",
          "text": [
            "Mounted at /content/drive\n"
          ]
        }
      ],
      "source": [
        "from google.colab import drive\n",
        "drive.mount('/content/drive')"
      ]
    },
    {
      "cell_type": "code",
      "execution_count": 106,
      "metadata": {
        "id": "XkI6-yf5Kup8"
      },
      "outputs": [],
      "source": [
        "df = pd.read_csv('/content/drive/MyDrive/Colab Notebooks/creditcard.csv')"
      ]
    },
    {
      "cell_type": "code",
      "execution_count": null,
      "metadata": {
        "colab": {
          "base_uri": "https://localhost:8080/",
          "height": 270
        },
        "id": "0M3uXXasLQFT",
        "outputId": "1e88ea8f-5e9e-4f30-d29b-a9870ed5a954"
      },
      "outputs": [
        {
          "output_type": "execute_result",
          "data": {
            "text/html": [
              "\n",
              "  <div id=\"df-9859c597-996f-43d0-b29d-6703ac1c012a\">\n",
              "    <div class=\"colab-df-container\">\n",
              "      <div>\n",
              "<style scoped>\n",
              "    .dataframe tbody tr th:only-of-type {\n",
              "        vertical-align: middle;\n",
              "    }\n",
              "\n",
              "    .dataframe tbody tr th {\n",
              "        vertical-align: top;\n",
              "    }\n",
              "\n",
              "    .dataframe thead th {\n",
              "        text-align: right;\n",
              "    }\n",
              "</style>\n",
              "<table border=\"1\" class=\"dataframe\">\n",
              "  <thead>\n",
              "    <tr style=\"text-align: right;\">\n",
              "      <th></th>\n",
              "      <th>Time</th>\n",
              "      <th>V1</th>\n",
              "      <th>V2</th>\n",
              "      <th>V3</th>\n",
              "      <th>V4</th>\n",
              "      <th>V5</th>\n",
              "      <th>V6</th>\n",
              "      <th>V7</th>\n",
              "      <th>V8</th>\n",
              "      <th>V9</th>\n",
              "      <th>V10</th>\n",
              "      <th>V11</th>\n",
              "      <th>V12</th>\n",
              "      <th>V13</th>\n",
              "      <th>V14</th>\n",
              "      <th>V15</th>\n",
              "      <th>V16</th>\n",
              "      <th>V17</th>\n",
              "      <th>V18</th>\n",
              "      <th>V19</th>\n",
              "      <th>V20</th>\n",
              "      <th>V21</th>\n",
              "      <th>V22</th>\n",
              "      <th>V23</th>\n",
              "      <th>V24</th>\n",
              "      <th>V25</th>\n",
              "      <th>V26</th>\n",
              "      <th>V27</th>\n",
              "      <th>V28</th>\n",
              "      <th>Amount</th>\n",
              "      <th>Class</th>\n",
              "    </tr>\n",
              "  </thead>\n",
              "  <tbody>\n",
              "    <tr>\n",
              "      <th>284802</th>\n",
              "      <td>172786.0</td>\n",
              "      <td>-11.881118</td>\n",
              "      <td>10.071785</td>\n",
              "      <td>-9.834783</td>\n",
              "      <td>-2.066656</td>\n",
              "      <td>-5.364473</td>\n",
              "      <td>-2.606837</td>\n",
              "      <td>-4.918215</td>\n",
              "      <td>7.305334</td>\n",
              "      <td>1.914428</td>\n",
              "      <td>4.356170</td>\n",
              "      <td>-1.593105</td>\n",
              "      <td>2.711941</td>\n",
              "      <td>-0.689256</td>\n",
              "      <td>4.626942</td>\n",
              "      <td>-0.924459</td>\n",
              "      <td>1.107641</td>\n",
              "      <td>1.991691</td>\n",
              "      <td>0.510632</td>\n",
              "      <td>-0.682920</td>\n",
              "      <td>1.475829</td>\n",
              "      <td>0.213454</td>\n",
              "      <td>0.111864</td>\n",
              "      <td>1.014480</td>\n",
              "      <td>-0.509348</td>\n",
              "      <td>1.436807</td>\n",
              "      <td>0.250034</td>\n",
              "      <td>0.943651</td>\n",
              "      <td>0.823731</td>\n",
              "      <td>0.77</td>\n",
              "      <td>0</td>\n",
              "    </tr>\n",
              "    <tr>\n",
              "      <th>284803</th>\n",
              "      <td>172787.0</td>\n",
              "      <td>-0.732789</td>\n",
              "      <td>-0.055080</td>\n",
              "      <td>2.035030</td>\n",
              "      <td>-0.738589</td>\n",
              "      <td>0.868229</td>\n",
              "      <td>1.058415</td>\n",
              "      <td>0.024330</td>\n",
              "      <td>0.294869</td>\n",
              "      <td>0.584800</td>\n",
              "      <td>-0.975926</td>\n",
              "      <td>-0.150189</td>\n",
              "      <td>0.915802</td>\n",
              "      <td>1.214756</td>\n",
              "      <td>-0.675143</td>\n",
              "      <td>1.164931</td>\n",
              "      <td>-0.711757</td>\n",
              "      <td>-0.025693</td>\n",
              "      <td>-1.221179</td>\n",
              "      <td>-1.545556</td>\n",
              "      <td>0.059616</td>\n",
              "      <td>0.214205</td>\n",
              "      <td>0.924384</td>\n",
              "      <td>0.012463</td>\n",
              "      <td>-1.016226</td>\n",
              "      <td>-0.606624</td>\n",
              "      <td>-0.395255</td>\n",
              "      <td>0.068472</td>\n",
              "      <td>-0.053527</td>\n",
              "      <td>24.79</td>\n",
              "      <td>0</td>\n",
              "    </tr>\n",
              "    <tr>\n",
              "      <th>284804</th>\n",
              "      <td>172788.0</td>\n",
              "      <td>1.919565</td>\n",
              "      <td>-0.301254</td>\n",
              "      <td>-3.249640</td>\n",
              "      <td>-0.557828</td>\n",
              "      <td>2.630515</td>\n",
              "      <td>3.031260</td>\n",
              "      <td>-0.296827</td>\n",
              "      <td>0.708417</td>\n",
              "      <td>0.432454</td>\n",
              "      <td>-0.484782</td>\n",
              "      <td>0.411614</td>\n",
              "      <td>0.063119</td>\n",
              "      <td>-0.183699</td>\n",
              "      <td>-0.510602</td>\n",
              "      <td>1.329284</td>\n",
              "      <td>0.140716</td>\n",
              "      <td>0.313502</td>\n",
              "      <td>0.395652</td>\n",
              "      <td>-0.577252</td>\n",
              "      <td>0.001396</td>\n",
              "      <td>0.232045</td>\n",
              "      <td>0.578229</td>\n",
              "      <td>-0.037501</td>\n",
              "      <td>0.640134</td>\n",
              "      <td>0.265745</td>\n",
              "      <td>-0.087371</td>\n",
              "      <td>0.004455</td>\n",
              "      <td>-0.026561</td>\n",
              "      <td>67.88</td>\n",
              "      <td>0</td>\n",
              "    </tr>\n",
              "    <tr>\n",
              "      <th>284805</th>\n",
              "      <td>172788.0</td>\n",
              "      <td>-0.240440</td>\n",
              "      <td>0.530483</td>\n",
              "      <td>0.702510</td>\n",
              "      <td>0.689799</td>\n",
              "      <td>-0.377961</td>\n",
              "      <td>0.623708</td>\n",
              "      <td>-0.686180</td>\n",
              "      <td>0.679145</td>\n",
              "      <td>0.392087</td>\n",
              "      <td>-0.399126</td>\n",
              "      <td>-1.933849</td>\n",
              "      <td>-0.962886</td>\n",
              "      <td>-1.042082</td>\n",
              "      <td>0.449624</td>\n",
              "      <td>1.962563</td>\n",
              "      <td>-0.608577</td>\n",
              "      <td>0.509928</td>\n",
              "      <td>1.113981</td>\n",
              "      <td>2.897849</td>\n",
              "      <td>0.127434</td>\n",
              "      <td>0.265245</td>\n",
              "      <td>0.800049</td>\n",
              "      <td>-0.163298</td>\n",
              "      <td>0.123205</td>\n",
              "      <td>-0.569159</td>\n",
              "      <td>0.546668</td>\n",
              "      <td>0.108821</td>\n",
              "      <td>0.104533</td>\n",
              "      <td>10.00</td>\n",
              "      <td>0</td>\n",
              "    </tr>\n",
              "    <tr>\n",
              "      <th>284806</th>\n",
              "      <td>172792.0</td>\n",
              "      <td>-0.533413</td>\n",
              "      <td>-0.189733</td>\n",
              "      <td>0.703337</td>\n",
              "      <td>-0.506271</td>\n",
              "      <td>-0.012546</td>\n",
              "      <td>-0.649617</td>\n",
              "      <td>1.577006</td>\n",
              "      <td>-0.414650</td>\n",
              "      <td>0.486180</td>\n",
              "      <td>-0.915427</td>\n",
              "      <td>-1.040458</td>\n",
              "      <td>-0.031513</td>\n",
              "      <td>-0.188093</td>\n",
              "      <td>-0.084316</td>\n",
              "      <td>0.041333</td>\n",
              "      <td>-0.302620</td>\n",
              "      <td>-0.660377</td>\n",
              "      <td>0.167430</td>\n",
              "      <td>-0.256117</td>\n",
              "      <td>0.382948</td>\n",
              "      <td>0.261057</td>\n",
              "      <td>0.643078</td>\n",
              "      <td>0.376777</td>\n",
              "      <td>0.008797</td>\n",
              "      <td>-0.473649</td>\n",
              "      <td>-0.818267</td>\n",
              "      <td>-0.002415</td>\n",
              "      <td>0.013649</td>\n",
              "      <td>217.00</td>\n",
              "      <td>0</td>\n",
              "    </tr>\n",
              "  </tbody>\n",
              "</table>\n",
              "</div>\n",
              "      <button class=\"colab-df-convert\" onclick=\"convertToInteractive('df-9859c597-996f-43d0-b29d-6703ac1c012a')\"\n",
              "              title=\"Convert this dataframe to an interactive table.\"\n",
              "              style=\"display:none;\">\n",
              "        \n",
              "  <svg xmlns=\"http://www.w3.org/2000/svg\" height=\"24px\"viewBox=\"0 0 24 24\"\n",
              "       width=\"24px\">\n",
              "    <path d=\"M0 0h24v24H0V0z\" fill=\"none\"/>\n",
              "    <path d=\"M18.56 5.44l.94 2.06.94-2.06 2.06-.94-2.06-.94-.94-2.06-.94 2.06-2.06.94zm-11 1L8.5 8.5l.94-2.06 2.06-.94-2.06-.94L8.5 2.5l-.94 2.06-2.06.94zm10 10l.94 2.06.94-2.06 2.06-.94-2.06-.94-.94-2.06-.94 2.06-2.06.94z\"/><path d=\"M17.41 7.96l-1.37-1.37c-.4-.4-.92-.59-1.43-.59-.52 0-1.04.2-1.43.59L10.3 9.45l-7.72 7.72c-.78.78-.78 2.05 0 2.83L4 21.41c.39.39.9.59 1.41.59.51 0 1.02-.2 1.41-.59l7.78-7.78 2.81-2.81c.8-.78.8-2.07 0-2.86zM5.41 20L4 18.59l7.72-7.72 1.47 1.35L5.41 20z\"/>\n",
              "  </svg>\n",
              "      </button>\n",
              "      \n",
              "  <style>\n",
              "    .colab-df-container {\n",
              "      display:flex;\n",
              "      flex-wrap:wrap;\n",
              "      gap: 12px;\n",
              "    }\n",
              "\n",
              "    .colab-df-convert {\n",
              "      background-color: #E8F0FE;\n",
              "      border: none;\n",
              "      border-radius: 50%;\n",
              "      cursor: pointer;\n",
              "      display: none;\n",
              "      fill: #1967D2;\n",
              "      height: 32px;\n",
              "      padding: 0 0 0 0;\n",
              "      width: 32px;\n",
              "    }\n",
              "\n",
              "    .colab-df-convert:hover {\n",
              "      background-color: #E2EBFA;\n",
              "      box-shadow: 0px 1px 2px rgba(60, 64, 67, 0.3), 0px 1px 3px 1px rgba(60, 64, 67, 0.15);\n",
              "      fill: #174EA6;\n",
              "    }\n",
              "\n",
              "    [theme=dark] .colab-df-convert {\n",
              "      background-color: #3B4455;\n",
              "      fill: #D2E3FC;\n",
              "    }\n",
              "\n",
              "    [theme=dark] .colab-df-convert:hover {\n",
              "      background-color: #434B5C;\n",
              "      box-shadow: 0px 1px 3px 1px rgba(0, 0, 0, 0.15);\n",
              "      filter: drop-shadow(0px 1px 2px rgba(0, 0, 0, 0.3));\n",
              "      fill: #FFFFFF;\n",
              "    }\n",
              "  </style>\n",
              "\n",
              "      <script>\n",
              "        const buttonEl =\n",
              "          document.querySelector('#df-9859c597-996f-43d0-b29d-6703ac1c012a button.colab-df-convert');\n",
              "        buttonEl.style.display =\n",
              "          google.colab.kernel.accessAllowed ? 'block' : 'none';\n",
              "\n",
              "        async function convertToInteractive(key) {\n",
              "          const element = document.querySelector('#df-9859c597-996f-43d0-b29d-6703ac1c012a');\n",
              "          const dataTable =\n",
              "            await google.colab.kernel.invokeFunction('convertToInteractive',\n",
              "                                                     [key], {});\n",
              "          if (!dataTable) return;\n",
              "\n",
              "          const docLinkHtml = 'Like what you see? Visit the ' +\n",
              "            '<a target=\"_blank\" href=https://colab.research.google.com/notebooks/data_table.ipynb>data table notebook</a>'\n",
              "            + ' to learn more about interactive tables.';\n",
              "          element.innerHTML = '';\n",
              "          dataTable['output_type'] = 'display_data';\n",
              "          await google.colab.output.renderOutput(dataTable, element);\n",
              "          const docLink = document.createElement('div');\n",
              "          docLink.innerHTML = docLinkHtml;\n",
              "          element.appendChild(docLink);\n",
              "        }\n",
              "      </script>\n",
              "    </div>\n",
              "  </div>\n",
              "  "
            ],
            "text/plain": [
              "            Time         V1         V2  ...       V28  Amount  Class\n",
              "284802  172786.0 -11.881118  10.071785  ...  0.823731    0.77      0\n",
              "284803  172787.0  -0.732789  -0.055080  ... -0.053527   24.79      0\n",
              "284804  172788.0   1.919565  -0.301254  ... -0.026561   67.88      0\n",
              "284805  172788.0  -0.240440   0.530483  ...  0.104533   10.00      0\n",
              "284806  172792.0  -0.533413  -0.189733  ...  0.013649  217.00      0\n",
              "\n",
              "[5 rows x 31 columns]"
            ]
          },
          "metadata": {},
          "execution_count": 33
        }
      ],
      "source": [
        "df.tail()"
      ]
    },
    {
      "cell_type": "code",
      "execution_count": null,
      "metadata": {
        "colab": {
          "base_uri": "https://localhost:8080/"
        },
        "id": "W5lGIocGgZdf",
        "outputId": "4a3394b4-8b51-4ee3-9cfc-b8e744bd1c3f"
      },
      "outputs": [
        {
          "output_type": "execute_result",
          "data": {
            "text/plain": [
              "0    284315\n",
              "1       492\n",
              "Name: Class, dtype: int64"
            ]
          },
          "metadata": {},
          "execution_count": 12
        }
      ],
      "source": [
        "df['Class'].value_counts()"
      ]
    },
    {
      "cell_type": "markdown",
      "source": [
        ""
      ],
      "metadata": {
        "id": "iIqOgkI_oDTQ"
      }
    },
    {
      "cell_type": "markdown",
      "source": [
        "#Data Preprocessing"
      ],
      "metadata": {
        "id": "32CTDGC1oGIm"
      }
    },
    {
      "cell_type": "code",
      "source": [
        "# df.drop('Time', axis=1, inplace=True)"
      ],
      "metadata": {
        "id": "wZj1YrPpSErn"
      },
      "execution_count": null,
      "outputs": []
    },
    {
      "cell_type": "markdown",
      "metadata": {
        "id": "AY3NCAuONjtJ"
      },
      "source": [
        "##Feature Scaling"
      ]
    },
    {
      "cell_type": "code",
      "execution_count": 107,
      "metadata": {
        "colab": {
          "base_uri": "https://localhost:8080/",
          "height": 270
        },
        "id": "zWXfkZW4NjPi",
        "outputId": "7fb6a6f7-6159-4e55-822e-b512aebbdc4b"
      },
      "outputs": [
        {
          "output_type": "execute_result",
          "data": {
            "text/html": [
              "\n",
              "  <div id=\"df-d76b8e8e-7a34-480d-a9ef-7421c53b9ee2\">\n",
              "    <div class=\"colab-df-container\">\n",
              "      <div>\n",
              "<style scoped>\n",
              "    .dataframe tbody tr th:only-of-type {\n",
              "        vertical-align: middle;\n",
              "    }\n",
              "\n",
              "    .dataframe tbody tr th {\n",
              "        vertical-align: top;\n",
              "    }\n",
              "\n",
              "    .dataframe thead th {\n",
              "        text-align: right;\n",
              "    }\n",
              "</style>\n",
              "<table border=\"1\" class=\"dataframe\">\n",
              "  <thead>\n",
              "    <tr style=\"text-align: right;\">\n",
              "      <th></th>\n",
              "      <th>Time</th>\n",
              "      <th>V1</th>\n",
              "      <th>V2</th>\n",
              "      <th>V3</th>\n",
              "      <th>V4</th>\n",
              "      <th>V5</th>\n",
              "      <th>V6</th>\n",
              "      <th>V7</th>\n",
              "      <th>V8</th>\n",
              "      <th>V9</th>\n",
              "      <th>V10</th>\n",
              "      <th>V11</th>\n",
              "      <th>V12</th>\n",
              "      <th>V13</th>\n",
              "      <th>V14</th>\n",
              "      <th>V15</th>\n",
              "      <th>V16</th>\n",
              "      <th>V17</th>\n",
              "      <th>V18</th>\n",
              "      <th>V19</th>\n",
              "      <th>V20</th>\n",
              "      <th>V21</th>\n",
              "      <th>V22</th>\n",
              "      <th>V23</th>\n",
              "      <th>V24</th>\n",
              "      <th>V25</th>\n",
              "      <th>V26</th>\n",
              "      <th>V27</th>\n",
              "      <th>V28</th>\n",
              "      <th>Amount</th>\n",
              "      <th>Class</th>\n",
              "    </tr>\n",
              "  </thead>\n",
              "  <tbody>\n",
              "    <tr>\n",
              "      <th>0</th>\n",
              "      <td>-1.996583</td>\n",
              "      <td>-1.359807</td>\n",
              "      <td>-0.072781</td>\n",
              "      <td>2.536347</td>\n",
              "      <td>1.378155</td>\n",
              "      <td>-0.338321</td>\n",
              "      <td>0.462388</td>\n",
              "      <td>0.239599</td>\n",
              "      <td>0.098698</td>\n",
              "      <td>0.363787</td>\n",
              "      <td>0.090794</td>\n",
              "      <td>-0.551600</td>\n",
              "      <td>-0.617801</td>\n",
              "      <td>-0.991390</td>\n",
              "      <td>-0.311169</td>\n",
              "      <td>1.468177</td>\n",
              "      <td>-0.470401</td>\n",
              "      <td>0.207971</td>\n",
              "      <td>0.025791</td>\n",
              "      <td>0.403993</td>\n",
              "      <td>0.251412</td>\n",
              "      <td>-0.018307</td>\n",
              "      <td>0.277838</td>\n",
              "      <td>-0.110474</td>\n",
              "      <td>0.066928</td>\n",
              "      <td>0.128539</td>\n",
              "      <td>-0.189115</td>\n",
              "      <td>0.133558</td>\n",
              "      <td>-0.021053</td>\n",
              "      <td>0.244964</td>\n",
              "      <td>0</td>\n",
              "    </tr>\n",
              "    <tr>\n",
              "      <th>1</th>\n",
              "      <td>-1.996583</td>\n",
              "      <td>1.191857</td>\n",
              "      <td>0.266151</td>\n",
              "      <td>0.166480</td>\n",
              "      <td>0.448154</td>\n",
              "      <td>0.060018</td>\n",
              "      <td>-0.082361</td>\n",
              "      <td>-0.078803</td>\n",
              "      <td>0.085102</td>\n",
              "      <td>-0.255425</td>\n",
              "      <td>-0.166974</td>\n",
              "      <td>1.612727</td>\n",
              "      <td>1.065235</td>\n",
              "      <td>0.489095</td>\n",
              "      <td>-0.143772</td>\n",
              "      <td>0.635558</td>\n",
              "      <td>0.463917</td>\n",
              "      <td>-0.114805</td>\n",
              "      <td>-0.183361</td>\n",
              "      <td>-0.145783</td>\n",
              "      <td>-0.069083</td>\n",
              "      <td>-0.225775</td>\n",
              "      <td>-0.638672</td>\n",
              "      <td>0.101288</td>\n",
              "      <td>-0.339846</td>\n",
              "      <td>0.167170</td>\n",
              "      <td>0.125895</td>\n",
              "      <td>-0.008983</td>\n",
              "      <td>0.014724</td>\n",
              "      <td>-0.342475</td>\n",
              "      <td>0</td>\n",
              "    </tr>\n",
              "    <tr>\n",
              "      <th>2</th>\n",
              "      <td>-1.996562</td>\n",
              "      <td>-1.358354</td>\n",
              "      <td>-1.340163</td>\n",
              "      <td>1.773209</td>\n",
              "      <td>0.379780</td>\n",
              "      <td>-0.503198</td>\n",
              "      <td>1.800499</td>\n",
              "      <td>0.791461</td>\n",
              "      <td>0.247676</td>\n",
              "      <td>-1.514654</td>\n",
              "      <td>0.207643</td>\n",
              "      <td>0.624501</td>\n",
              "      <td>0.066084</td>\n",
              "      <td>0.717293</td>\n",
              "      <td>-0.165946</td>\n",
              "      <td>2.345865</td>\n",
              "      <td>-2.890083</td>\n",
              "      <td>1.109969</td>\n",
              "      <td>-0.121359</td>\n",
              "      <td>-2.261857</td>\n",
              "      <td>0.524980</td>\n",
              "      <td>0.247998</td>\n",
              "      <td>0.771679</td>\n",
              "      <td>0.909412</td>\n",
              "      <td>-0.689281</td>\n",
              "      <td>-0.327642</td>\n",
              "      <td>-0.139097</td>\n",
              "      <td>-0.055353</td>\n",
              "      <td>-0.059752</td>\n",
              "      <td>1.160686</td>\n",
              "      <td>0</td>\n",
              "    </tr>\n",
              "    <tr>\n",
              "      <th>3</th>\n",
              "      <td>-1.996562</td>\n",
              "      <td>-0.966272</td>\n",
              "      <td>-0.185226</td>\n",
              "      <td>1.792993</td>\n",
              "      <td>-0.863291</td>\n",
              "      <td>-0.010309</td>\n",
              "      <td>1.247203</td>\n",
              "      <td>0.237609</td>\n",
              "      <td>0.377436</td>\n",
              "      <td>-1.387024</td>\n",
              "      <td>-0.054952</td>\n",
              "      <td>-0.226487</td>\n",
              "      <td>0.178228</td>\n",
              "      <td>0.507757</td>\n",
              "      <td>-0.287924</td>\n",
              "      <td>-0.631418</td>\n",
              "      <td>-1.059647</td>\n",
              "      <td>-0.684093</td>\n",
              "      <td>1.965775</td>\n",
              "      <td>-1.232622</td>\n",
              "      <td>-0.208038</td>\n",
              "      <td>-0.108300</td>\n",
              "      <td>0.005274</td>\n",
              "      <td>-0.190321</td>\n",
              "      <td>-1.175575</td>\n",
              "      <td>0.647376</td>\n",
              "      <td>-0.221929</td>\n",
              "      <td>0.062723</td>\n",
              "      <td>0.061458</td>\n",
              "      <td>0.140534</td>\n",
              "      <td>0</td>\n",
              "    </tr>\n",
              "    <tr>\n",
              "      <th>4</th>\n",
              "      <td>-1.996541</td>\n",
              "      <td>-1.158233</td>\n",
              "      <td>0.877737</td>\n",
              "      <td>1.548718</td>\n",
              "      <td>0.403034</td>\n",
              "      <td>-0.407193</td>\n",
              "      <td>0.095921</td>\n",
              "      <td>0.592941</td>\n",
              "      <td>-0.270533</td>\n",
              "      <td>0.817739</td>\n",
              "      <td>0.753074</td>\n",
              "      <td>-0.822843</td>\n",
              "      <td>0.538196</td>\n",
              "      <td>1.345852</td>\n",
              "      <td>-1.119670</td>\n",
              "      <td>0.175121</td>\n",
              "      <td>-0.451449</td>\n",
              "      <td>-0.237033</td>\n",
              "      <td>-0.038195</td>\n",
              "      <td>0.803487</td>\n",
              "      <td>0.408542</td>\n",
              "      <td>-0.009431</td>\n",
              "      <td>0.798278</td>\n",
              "      <td>-0.137458</td>\n",
              "      <td>0.141267</td>\n",
              "      <td>-0.206010</td>\n",
              "      <td>0.502292</td>\n",
              "      <td>0.219422</td>\n",
              "      <td>0.215153</td>\n",
              "      <td>-0.073403</td>\n",
              "      <td>0</td>\n",
              "    </tr>\n",
              "  </tbody>\n",
              "</table>\n",
              "</div>\n",
              "      <button class=\"colab-df-convert\" onclick=\"convertToInteractive('df-d76b8e8e-7a34-480d-a9ef-7421c53b9ee2')\"\n",
              "              title=\"Convert this dataframe to an interactive table.\"\n",
              "              style=\"display:none;\">\n",
              "        \n",
              "  <svg xmlns=\"http://www.w3.org/2000/svg\" height=\"24px\"viewBox=\"0 0 24 24\"\n",
              "       width=\"24px\">\n",
              "    <path d=\"M0 0h24v24H0V0z\" fill=\"none\"/>\n",
              "    <path d=\"M18.56 5.44l.94 2.06.94-2.06 2.06-.94-2.06-.94-.94-2.06-.94 2.06-2.06.94zm-11 1L8.5 8.5l.94-2.06 2.06-.94-2.06-.94L8.5 2.5l-.94 2.06-2.06.94zm10 10l.94 2.06.94-2.06 2.06-.94-2.06-.94-.94-2.06-.94 2.06-2.06.94z\"/><path d=\"M17.41 7.96l-1.37-1.37c-.4-.4-.92-.59-1.43-.59-.52 0-1.04.2-1.43.59L10.3 9.45l-7.72 7.72c-.78.78-.78 2.05 0 2.83L4 21.41c.39.39.9.59 1.41.59.51 0 1.02-.2 1.41-.59l7.78-7.78 2.81-2.81c.8-.78.8-2.07 0-2.86zM5.41 20L4 18.59l7.72-7.72 1.47 1.35L5.41 20z\"/>\n",
              "  </svg>\n",
              "      </button>\n",
              "      \n",
              "  <style>\n",
              "    .colab-df-container {\n",
              "      display:flex;\n",
              "      flex-wrap:wrap;\n",
              "      gap: 12px;\n",
              "    }\n",
              "\n",
              "    .colab-df-convert {\n",
              "      background-color: #E8F0FE;\n",
              "      border: none;\n",
              "      border-radius: 50%;\n",
              "      cursor: pointer;\n",
              "      display: none;\n",
              "      fill: #1967D2;\n",
              "      height: 32px;\n",
              "      padding: 0 0 0 0;\n",
              "      width: 32px;\n",
              "    }\n",
              "\n",
              "    .colab-df-convert:hover {\n",
              "      background-color: #E2EBFA;\n",
              "      box-shadow: 0px 1px 2px rgba(60, 64, 67, 0.3), 0px 1px 3px 1px rgba(60, 64, 67, 0.15);\n",
              "      fill: #174EA6;\n",
              "    }\n",
              "\n",
              "    [theme=dark] .colab-df-convert {\n",
              "      background-color: #3B4455;\n",
              "      fill: #D2E3FC;\n",
              "    }\n",
              "\n",
              "    [theme=dark] .colab-df-convert:hover {\n",
              "      background-color: #434B5C;\n",
              "      box-shadow: 0px 1px 3px 1px rgba(0, 0, 0, 0.15);\n",
              "      filter: drop-shadow(0px 1px 2px rgba(0, 0, 0, 0.3));\n",
              "      fill: #FFFFFF;\n",
              "    }\n",
              "  </style>\n",
              "\n",
              "      <script>\n",
              "        const buttonEl =\n",
              "          document.querySelector('#df-d76b8e8e-7a34-480d-a9ef-7421c53b9ee2 button.colab-df-convert');\n",
              "        buttonEl.style.display =\n",
              "          google.colab.kernel.accessAllowed ? 'block' : 'none';\n",
              "\n",
              "        async function convertToInteractive(key) {\n",
              "          const element = document.querySelector('#df-d76b8e8e-7a34-480d-a9ef-7421c53b9ee2');\n",
              "          const dataTable =\n",
              "            await google.colab.kernel.invokeFunction('convertToInteractive',\n",
              "                                                     [key], {});\n",
              "          if (!dataTable) return;\n",
              "\n",
              "          const docLinkHtml = 'Like what you see? Visit the ' +\n",
              "            '<a target=\"_blank\" href=https://colab.research.google.com/notebooks/data_table.ipynb>data table notebook</a>'\n",
              "            + ' to learn more about interactive tables.';\n",
              "          element.innerHTML = '';\n",
              "          dataTable['output_type'] = 'display_data';\n",
              "          await google.colab.output.renderOutput(dataTable, element);\n",
              "          const docLink = document.createElement('div');\n",
              "          docLink.innerHTML = docLinkHtml;\n",
              "          element.appendChild(docLink);\n",
              "        }\n",
              "      </script>\n",
              "    </div>\n",
              "  </div>\n",
              "  "
            ],
            "text/plain": [
              "       Time        V1        V2        V3  ...       V27       V28    Amount  Class\n",
              "0 -1.996583 -1.359807 -0.072781  2.536347  ...  0.133558 -0.021053  0.244964      0\n",
              "1 -1.996583  1.191857  0.266151  0.166480  ... -0.008983  0.014724 -0.342475      0\n",
              "2 -1.996562 -1.358354 -1.340163  1.773209  ... -0.055353 -0.059752  1.160686      0\n",
              "3 -1.996562 -0.966272 -0.185226  1.792993  ...  0.062723  0.061458  0.140534      0\n",
              "4 -1.996541 -1.158233  0.877737  1.548718  ...  0.219422  0.215153 -0.073403      0\n",
              "\n",
              "[5 rows x 31 columns]"
            ]
          },
          "metadata": {},
          "execution_count": 107
        }
      ],
      "source": [
        "from sklearn.preprocessing import StandardScaler\n",
        "scaler = StandardScaler()\n",
        "\n",
        "df['Amount'] = scaler.fit_transform(df[['Amount']])\n",
        "df['Time'] = scaler.fit_transform(df[['Time']])\n",
        "df.head()"
      ]
    },
    {
      "cell_type": "code",
      "source": [
        "X=df.drop(\"Class\",axis=1)\n",
        "y=df.Class"
      ],
      "metadata": {
        "id": "u5_aqe5Q8g01"
      },
      "execution_count": 108,
      "outputs": []
    },
    {
      "cell_type": "code",
      "source": [
        "X.shape"
      ],
      "metadata": {
        "colab": {
          "base_uri": "https://localhost:8080/"
        },
        "id": "zaNx9yVeI4qi",
        "outputId": "7830320e-194d-460e-852b-c528e04808bf"
      },
      "execution_count": null,
      "outputs": [
        {
          "output_type": "execute_result",
          "data": {
            "text/plain": [
              "(284807, 30)"
            ]
          },
          "metadata": {},
          "execution_count": 16
        }
      ]
    },
    {
      "cell_type": "markdown",
      "metadata": {
        "id": "DUk_0zaH0ms6"
      },
      "source": [
        "##Reducing skewness"
      ]
    },
    {
      "cell_type": "code",
      "execution_count": 109,
      "metadata": {
        "id": "JB0UJ3IqzuYw"
      },
      "outputs": [],
      "source": [
        "from sklearn.preprocessing import PowerTransformer\n",
        "\n",
        "pt = PowerTransformer(method='yeo-johnson', standardize=True, copy=False)\n",
        "cols = X.columns\n",
        "X[cols] = pt.fit_transform(X)"
      ]
    },
    {
      "cell_type": "code",
      "execution_count": 110,
      "metadata": {
        "id": "Xn9pis3z0xiM"
      },
      "outputs": [],
      "source": [
        "X_train,X_test,y_train,y_test=train_test_split(X,y,test_size = 0.2, random_state=42)"
      ]
    },
    {
      "cell_type": "code",
      "source": [
        "Counter(y_train)"
      ],
      "metadata": {
        "colab": {
          "base_uri": "https://localhost:8080/"
        },
        "id": "65t9g9ft5pKW",
        "outputId": "f546cac5-d538-46f6-88fd-687c31c8453b"
      },
      "execution_count": 111,
      "outputs": [
        {
          "output_type": "execute_result",
          "data": {
            "text/plain": [
              "Counter({0: 227451, 1: 394})"
            ]
          },
          "metadata": {},
          "execution_count": 111
        }
      ]
    },
    {
      "cell_type": "code",
      "execution_count": 105,
      "metadata": {
        "id": "cybPnKs5krLi"
      },
      "outputs": [],
      "source": [
        "def draw_roc( actual, probs ):\n",
        "    fpr, tpr, thresholds = metrics.roc_curve( actual, probs,\n",
        "                                              drop_intermediate = False )\n",
        "    auc_score = metrics.roc_auc_score( actual, probs )\n",
        "    plt.figure(figsize=(5, 5))\n",
        "    plt.plot( fpr, tpr,color='darkorange', label='ROC curve (area = %0.2f)' % auc_score )\n",
        "    plt.plot([0, 1], [0, 1], 'k--')\n",
        "    plt.xlim([0.0, 1.0])\n",
        "    plt.ylim([0.0, 1.05])\n",
        "    plt.xlabel('False Positive Rate or [1 - True Negative Rate]')\n",
        "    plt.ylabel('True Positive Rate')\n",
        "    plt.title('Receiver operating characteristic example')\n",
        "    plt.legend(loc=\"lower right\")\n",
        "    plt.show()\n",
        "\n",
        "    return None"
      ]
    },
    {
      "cell_type": "markdown",
      "source": [
        "#Without Sampling"
      ],
      "metadata": {
        "id": "Vamyap2_ahiP"
      }
    },
    {
      "cell_type": "markdown",
      "metadata": {
        "id": "aT66XbKQgy8V"
      },
      "source": [
        "##Decision Tree"
      ]
    },
    {
      "cell_type": "code",
      "execution_count": null,
      "metadata": {
        "colab": {
          "base_uri": "https://localhost:8080/"
        },
        "id": "txVtH-9WcQKi",
        "outputId": "583eb696-bf39-4bd3-dd62-6b109c2958c5"
      },
      "outputs": [
        {
          "name": "stdout",
          "output_type": "stream",
          "text": [
            "Fitting 3 folds for each of 8 candidates, totalling 24 fits\n"
          ]
        },
        {
          "data": {
            "text/plain": [
              "GridSearchCV(cv=3, estimator=DecisionTreeClassifier(),\n",
              "             param_grid={'max_depth': range(5, 15, 5),\n",
              "                         'min_samples_leaf': range(50, 150, 50),\n",
              "                         'min_samples_split': range(50, 150, 50)},\n",
              "             scoring='roc_auc', verbose=1)"
            ]
          },
          "execution_count": 43,
          "metadata": {},
          "output_type": "execute_result"
        }
      ],
      "source": [
        "from sklearn.tree import DecisionTreeClassifier\n",
        "param_grid = {\n",
        "    'max_depth': range(5, 15, 5),\n",
        "    'min_samples_leaf': range(50, 150, 50),\n",
        "    'min_samples_split': range(50, 150, 50),\n",
        "}\n",
        "\n",
        "# Instantiate the grid search model\n",
        "dtree = DecisionTreeClassifier()\n",
        "\n",
        "grid_search = GridSearchCV(estimator = dtree, \n",
        "                           param_grid = param_grid, \n",
        "                           scoring= 'roc_auc',\n",
        "                           cv = 3, \n",
        "                           verbose = 1)\n",
        "\n",
        "# Fit the grid search to the data\n",
        "grid_search.fit(X_train,y_train)"
      ]
    },
    {
      "cell_type": "code",
      "execution_count": null,
      "metadata": {
        "colab": {
          "base_uri": "https://localhost:8080/",
          "height": 642
        },
        "id": "zRXskHYTfIDR",
        "outputId": "015e3444-51ca-4f4d-96bf-791935c6e4c2"
      },
      "outputs": [
        {
          "data": {
            "text/html": [
              "\n",
              "  <div id=\"df-9f3ff06d-2527-4112-87cd-2af67825a636\">\n",
              "    <div class=\"colab-df-container\">\n",
              "      <div>\n",
              "<style scoped>\n",
              "    .dataframe tbody tr th:only-of-type {\n",
              "        vertical-align: middle;\n",
              "    }\n",
              "\n",
              "    .dataframe tbody tr th {\n",
              "        vertical-align: top;\n",
              "    }\n",
              "\n",
              "    .dataframe thead th {\n",
              "        text-align: right;\n",
              "    }\n",
              "</style>\n",
              "<table border=\"1\" class=\"dataframe\">\n",
              "  <thead>\n",
              "    <tr style=\"text-align: right;\">\n",
              "      <th></th>\n",
              "      <th>mean_fit_time</th>\n",
              "      <th>std_fit_time</th>\n",
              "      <th>mean_score_time</th>\n",
              "      <th>std_score_time</th>\n",
              "      <th>param_max_depth</th>\n",
              "      <th>param_min_samples_leaf</th>\n",
              "      <th>param_min_samples_split</th>\n",
              "      <th>params</th>\n",
              "      <th>split0_test_score</th>\n",
              "      <th>split1_test_score</th>\n",
              "      <th>split2_test_score</th>\n",
              "      <th>mean_test_score</th>\n",
              "      <th>std_test_score</th>\n",
              "      <th>rank_test_score</th>\n",
              "    </tr>\n",
              "  </thead>\n",
              "  <tbody>\n",
              "    <tr>\n",
              "      <th>0</th>\n",
              "      <td>3.798665</td>\n",
              "      <td>0.048118</td>\n",
              "      <td>0.027396</td>\n",
              "      <td>0.000122</td>\n",
              "      <td>5</td>\n",
              "      <td>50</td>\n",
              "      <td>50</td>\n",
              "      <td>{'max_depth': 5, 'min_samples_leaf': 50, 'min_...</td>\n",
              "      <td>0.921273</td>\n",
              "      <td>0.944068</td>\n",
              "      <td>0.940849</td>\n",
              "      <td>0.935397</td>\n",
              "      <td>0.010073</td>\n",
              "      <td>5</td>\n",
              "    </tr>\n",
              "    <tr>\n",
              "      <th>1</th>\n",
              "      <td>3.764988</td>\n",
              "      <td>0.010980</td>\n",
              "      <td>0.026703</td>\n",
              "      <td>0.000716</td>\n",
              "      <td>5</td>\n",
              "      <td>50</td>\n",
              "      <td>100</td>\n",
              "      <td>{'max_depth': 5, 'min_samples_leaf': 50, 'min_...</td>\n",
              "      <td>0.921272</td>\n",
              "      <td>0.944043</td>\n",
              "      <td>0.940892</td>\n",
              "      <td>0.935403</td>\n",
              "      <td>0.010074</td>\n",
              "      <td>4</td>\n",
              "    </tr>\n",
              "    <tr>\n",
              "      <th>2</th>\n",
              "      <td>3.775062</td>\n",
              "      <td>0.009195</td>\n",
              "      <td>0.026937</td>\n",
              "      <td>0.000174</td>\n",
              "      <td>5</td>\n",
              "      <td>100</td>\n",
              "      <td>50</td>\n",
              "      <td>{'max_depth': 5, 'min_samples_leaf': 100, 'min...</td>\n",
              "      <td>0.951532</td>\n",
              "      <td>0.943881</td>\n",
              "      <td>0.949316</td>\n",
              "      <td>0.948243</td>\n",
              "      <td>0.003214</td>\n",
              "      <td>2</td>\n",
              "    </tr>\n",
              "    <tr>\n",
              "      <th>3</th>\n",
              "      <td>3.792312</td>\n",
              "      <td>0.031647</td>\n",
              "      <td>0.027093</td>\n",
              "      <td>0.000457</td>\n",
              "      <td>5</td>\n",
              "      <td>100</td>\n",
              "      <td>100</td>\n",
              "      <td>{'max_depth': 5, 'min_samples_leaf': 100, 'min...</td>\n",
              "      <td>0.951532</td>\n",
              "      <td>0.943892</td>\n",
              "      <td>0.949316</td>\n",
              "      <td>0.948247</td>\n",
              "      <td>0.003210</td>\n",
              "      <td>1</td>\n",
              "    </tr>\n",
              "    <tr>\n",
              "      <th>4</th>\n",
              "      <td>7.394792</td>\n",
              "      <td>0.048756</td>\n",
              "      <td>0.029926</td>\n",
              "      <td>0.001277</td>\n",
              "      <td>10</td>\n",
              "      <td>50</td>\n",
              "      <td>50</td>\n",
              "      <td>{'max_depth': 10, 'min_samples_leaf': 50, 'min...</td>\n",
              "      <td>0.930231</td>\n",
              "      <td>0.917744</td>\n",
              "      <td>0.956118</td>\n",
              "      <td>0.934698</td>\n",
              "      <td>0.015982</td>\n",
              "      <td>6</td>\n",
              "    </tr>\n",
              "    <tr>\n",
              "      <th>5</th>\n",
              "      <td>7.382683</td>\n",
              "      <td>0.049467</td>\n",
              "      <td>0.028886</td>\n",
              "      <td>0.001001</td>\n",
              "      <td>10</td>\n",
              "      <td>50</td>\n",
              "      <td>100</td>\n",
              "      <td>{'max_depth': 10, 'min_samples_leaf': 50, 'min...</td>\n",
              "      <td>0.938765</td>\n",
              "      <td>0.926042</td>\n",
              "      <td>0.955850</td>\n",
              "      <td>0.940219</td>\n",
              "      <td>0.012212</td>\n",
              "      <td>3</td>\n",
              "    </tr>\n",
              "    <tr>\n",
              "      <th>6</th>\n",
              "      <td>7.297579</td>\n",
              "      <td>0.037333</td>\n",
              "      <td>0.028483</td>\n",
              "      <td>0.000190</td>\n",
              "      <td>10</td>\n",
              "      <td>100</td>\n",
              "      <td>50</td>\n",
              "      <td>{'max_depth': 10, 'min_samples_leaf': 100, 'mi...</td>\n",
              "      <td>0.932881</td>\n",
              "      <td>0.909345</td>\n",
              "      <td>0.942811</td>\n",
              "      <td>0.928346</td>\n",
              "      <td>0.014034</td>\n",
              "      <td>8</td>\n",
              "    </tr>\n",
              "    <tr>\n",
              "      <th>7</th>\n",
              "      <td>7.313436</td>\n",
              "      <td>0.051758</td>\n",
              "      <td>0.028716</td>\n",
              "      <td>0.000287</td>\n",
              "      <td>10</td>\n",
              "      <td>100</td>\n",
              "      <td>100</td>\n",
              "      <td>{'max_depth': 10, 'min_samples_leaf': 100, 'mi...</td>\n",
              "      <td>0.941238</td>\n",
              "      <td>0.909339</td>\n",
              "      <td>0.942835</td>\n",
              "      <td>0.931138</td>\n",
              "      <td>0.015427</td>\n",
              "      <td>7</td>\n",
              "    </tr>\n",
              "  </tbody>\n",
              "</table>\n",
              "</div>\n",
              "      <button class=\"colab-df-convert\" onclick=\"convertToInteractive('df-9f3ff06d-2527-4112-87cd-2af67825a636')\"\n",
              "              title=\"Convert this dataframe to an interactive table.\"\n",
              "              style=\"display:none;\">\n",
              "        \n",
              "  <svg xmlns=\"http://www.w3.org/2000/svg\" height=\"24px\"viewBox=\"0 0 24 24\"\n",
              "       width=\"24px\">\n",
              "    <path d=\"M0 0h24v24H0V0z\" fill=\"none\"/>\n",
              "    <path d=\"M18.56 5.44l.94 2.06.94-2.06 2.06-.94-2.06-.94-.94-2.06-.94 2.06-2.06.94zm-11 1L8.5 8.5l.94-2.06 2.06-.94-2.06-.94L8.5 2.5l-.94 2.06-2.06.94zm10 10l.94 2.06.94-2.06 2.06-.94-2.06-.94-.94-2.06-.94 2.06-2.06.94z\"/><path d=\"M17.41 7.96l-1.37-1.37c-.4-.4-.92-.59-1.43-.59-.52 0-1.04.2-1.43.59L10.3 9.45l-7.72 7.72c-.78.78-.78 2.05 0 2.83L4 21.41c.39.39.9.59 1.41.59.51 0 1.02-.2 1.41-.59l7.78-7.78 2.81-2.81c.8-.78.8-2.07 0-2.86zM5.41 20L4 18.59l7.72-7.72 1.47 1.35L5.41 20z\"/>\n",
              "  </svg>\n",
              "      </button>\n",
              "      \n",
              "  <style>\n",
              "    .colab-df-container {\n",
              "      display:flex;\n",
              "      flex-wrap:wrap;\n",
              "      gap: 12px;\n",
              "    }\n",
              "\n",
              "    .colab-df-convert {\n",
              "      background-color: #E8F0FE;\n",
              "      border: none;\n",
              "      border-radius: 50%;\n",
              "      cursor: pointer;\n",
              "      display: none;\n",
              "      fill: #1967D2;\n",
              "      height: 32px;\n",
              "      padding: 0 0 0 0;\n",
              "      width: 32px;\n",
              "    }\n",
              "\n",
              "    .colab-df-convert:hover {\n",
              "      background-color: #E2EBFA;\n",
              "      box-shadow: 0px 1px 2px rgba(60, 64, 67, 0.3), 0px 1px 3px 1px rgba(60, 64, 67, 0.15);\n",
              "      fill: #174EA6;\n",
              "    }\n",
              "\n",
              "    [theme=dark] .colab-df-convert {\n",
              "      background-color: #3B4455;\n",
              "      fill: #D2E3FC;\n",
              "    }\n",
              "\n",
              "    [theme=dark] .colab-df-convert:hover {\n",
              "      background-color: #434B5C;\n",
              "      box-shadow: 0px 1px 3px 1px rgba(0, 0, 0, 0.15);\n",
              "      filter: drop-shadow(0px 1px 2px rgba(0, 0, 0, 0.3));\n",
              "      fill: #FFFFFF;\n",
              "    }\n",
              "  </style>\n",
              "\n",
              "      <script>\n",
              "        const buttonEl =\n",
              "          document.querySelector('#df-9f3ff06d-2527-4112-87cd-2af67825a636 button.colab-df-convert');\n",
              "        buttonEl.style.display =\n",
              "          google.colab.kernel.accessAllowed ? 'block' : 'none';\n",
              "\n",
              "        async function convertToInteractive(key) {\n",
              "          const element = document.querySelector('#df-9f3ff06d-2527-4112-87cd-2af67825a636');\n",
              "          const dataTable =\n",
              "            await google.colab.kernel.invokeFunction('convertToInteractive',\n",
              "                                                     [key], {});\n",
              "          if (!dataTable) return;\n",
              "\n",
              "          const docLinkHtml = 'Like what you see? Visit the ' +\n",
              "            '<a target=\"_blank\" href=https://colab.research.google.com/notebooks/data_table.ipynb>data table notebook</a>'\n",
              "            + ' to learn more about interactive tables.';\n",
              "          element.innerHTML = '';\n",
              "          dataTable['output_type'] = 'display_data';\n",
              "          await google.colab.output.renderOutput(dataTable, element);\n",
              "          const docLink = document.createElement('div');\n",
              "          docLink.innerHTML = docLinkHtml;\n",
              "          element.appendChild(docLink);\n",
              "        }\n",
              "      </script>\n",
              "    </div>\n",
              "  </div>\n",
              "  "
            ],
            "text/plain": [
              "   mean_fit_time  std_fit_time  ...  std_test_score  rank_test_score\n",
              "0       3.798665      0.048118  ...        0.010073                5\n",
              "1       3.764988      0.010980  ...        0.010074                4\n",
              "2       3.775062      0.009195  ...        0.003214                2\n",
              "3       3.792312      0.031647  ...        0.003210                1\n",
              "4       7.394792      0.048756  ...        0.015982                6\n",
              "5       7.382683      0.049467  ...        0.012212                3\n",
              "6       7.297579      0.037333  ...        0.014034                8\n",
              "7       7.313436      0.051758  ...        0.015427                7\n",
              "\n",
              "[8 rows x 14 columns]"
            ]
          },
          "execution_count": 44,
          "metadata": {},
          "output_type": "execute_result"
        }
      ],
      "source": [
        "cv_results = pd.DataFrame(grid_search.cv_results_)\n",
        "cv_results\n"
      ]
    },
    {
      "cell_type": "code",
      "execution_count": null,
      "metadata": {
        "id": "NRQED3PtgLwg"
      },
      "outputs": [],
      "source": [
        ""
      ]
    },
    {
      "cell_type": "code",
      "execution_count": null,
      "metadata": {
        "colab": {
          "base_uri": "https://localhost:8080/"
        },
        "id": "0wF3iHLHdyyd",
        "outputId": "c777261b-5633-4596-8af3-66a7c6e0a5c7"
      },
      "outputs": [
        {
          "name": "stdout",
          "output_type": "stream",
          "text": [
            "Best roc_auc:- 0.9482466333442406\n",
            "DecisionTreeClassifier(max_depth=5, min_samples_leaf=100, min_samples_split=100)\n"
          ]
        }
      ],
      "source": [
        "print(\"Best roc_auc:-\", grid_search.best_score_)\n",
        "print(grid_search.best_estimator_)"
      ]
    },
    {
      "cell_type": "code",
      "execution_count": 112,
      "metadata": {
        "colab": {
          "base_uri": "https://localhost:8080/"
        },
        "id": "5GjUASy5eHh3",
        "outputId": "d79d63bd-a891-4bf3-8152-0b0d97ca91fe"
      },
      "outputs": [
        {
          "output_type": "execute_result",
          "data": {
            "text/plain": [
              "(227845, 30)"
            ]
          },
          "metadata": {},
          "execution_count": 112
        }
      ],
      "source": [
        "\n",
        "from sklearn.model_selection import train_test_split\n",
        "from sklearn.metrics import accuracy_score,confusion_matrix,classification_report\n",
        "# X_train,X_test,y_train,y_test=train_test_split(X,y,test_size = 0.3, random_state=0)\n",
        "decision_tree = DecisionTreeClassifier(criterion = \"gini\", \n",
        "                                  random_state = 100,\n",
        "                                  max_depth=5, \n",
        "                                  min_samples_leaf=100,\n",
        "                                  min_samples_split=100)\n",
        "X_train.shape"
      ]
    },
    {
      "cell_type": "code",
      "execution_count": 113,
      "metadata": {
        "colab": {
          "base_uri": "https://localhost:8080/"
        },
        "id": "XoCLOBvSeKie",
        "outputId": "41803ed4-b59c-4140-95c1-5bdaa26ab0c0"
      },
      "outputs": [
        {
          "output_type": "execute_result",
          "data": {
            "text/plain": [
              "DecisionTreeClassifier(max_depth=5, min_samples_leaf=100, min_samples_split=100,\n",
              "                       random_state=100)"
            ]
          },
          "metadata": {},
          "execution_count": 113
        }
      ],
      "source": [
        "decision_tree.fit(X_train,y_train)"
      ]
    },
    {
      "cell_type": "code",
      "execution_count": 114,
      "metadata": {
        "id": "2t-u8CuyfAK2"
      },
      "outputs": [],
      "source": [
        "y_pred = decision_tree.predict(X_test)\n",
        "y_test_pred_proba = decision_tree.predict_proba(X_test)[:,1]"
      ]
    },
    {
      "cell_type": "code",
      "execution_count": 115,
      "metadata": {
        "colab": {
          "base_uri": "https://localhost:8080/"
        },
        "id": "BCj_qCBqis78",
        "outputId": "e40ed3d7-d1fc-4bfc-891f-602cdab46b0d"
      },
      "outputs": [
        {
          "output_type": "execute_result",
          "data": {
            "text/plain": [
              "0.9550532491415248"
            ]
          },
          "metadata": {},
          "execution_count": 115
        }
      ],
      "source": [
        "auc = metrics.roc_auc_score(y_test, y_test_pred_proba)\n",
        "auc"
      ]
    },
    {
      "cell_type": "code",
      "execution_count": 103,
      "metadata": {
        "colab": {
          "base_uri": "https://localhost:8080/",
          "height": 165
        },
        "id": "LSc2RZ6Gi3HV",
        "outputId": "53bdec07-087d-43d7-97a7-fd46b08abaa1"
      },
      "outputs": [
        {
          "output_type": "error",
          "ename": "NameError",
          "evalue": "ignored",
          "traceback": [
            "\u001b[0;31m---------------------------------------------------------------------------\u001b[0m",
            "\u001b[0;31mNameError\u001b[0m                                 Traceback (most recent call last)",
            "\u001b[0;32m<ipython-input-103-79f9767bf3a5>\u001b[0m in \u001b[0;36m<module>\u001b[0;34m()\u001b[0m\n\u001b[0;32m----> 1\u001b[0;31m \u001b[0mdraw_roc\u001b[0m\u001b[0;34m(\u001b[0m\u001b[0my_test\u001b[0m\u001b[0;34m,\u001b[0m \u001b[0my_test_pred_proba\u001b[0m\u001b[0;34m)\u001b[0m\u001b[0;34m\u001b[0m\u001b[0;34m\u001b[0m\u001b[0m\n\u001b[0m",
            "\u001b[0;31mNameError\u001b[0m: name 'draw_roc' is not defined"
          ]
        }
      ],
      "source": [
        "draw_roc(y_test, y_test_pred_proba)"
      ]
    },
    {
      "cell_type": "code",
      "execution_count": 116,
      "metadata": {
        "colab": {
          "base_uri": "https://localhost:8080/",
          "height": 528
        },
        "id": "yxP9HtSXfO0-",
        "outputId": "bc08b570-0f43-490f-d0e8-2cae08356bad"
      },
      "outputs": [
        {
          "output_type": "stream",
          "name": "stdout",
          "text": [
            "0.9990519995786665\n",
            "              precision    recall  f1-score   support\n",
            "\n",
            "           0       1.00      1.00      1.00     56864\n",
            "           1       0.73      0.70      0.72        98\n",
            "\n",
            "    accuracy                           1.00     56962\n",
            "   macro avg       0.87      0.85      0.86     56962\n",
            "weighted avg       1.00      1.00      1.00     56962\n",
            "\n"
          ]
        },
        {
          "output_type": "execute_result",
          "data": {
            "text/plain": [
              "array([[56839,    25],\n",
              "       [   29,    69]])"
            ]
          },
          "metadata": {},
          "execution_count": 116
        },
        {
          "output_type": "display_data",
          "data": {
            "image/png": "[encoded data removed]",
            "text/plain": [
              "<Figure size 576x360 with 2 Axes>"
            ]
          },
          "metadata": {
            "needs_background": "light"
          }
        }
      ],
      "source": [
        "cm=confusion_matrix(y_test,y_pred)\n",
        "conf_matrix=pd.DataFrame(data=cm,columns=['Predicted:0','Predicted:1'],index=['Actual:0','Actual:1'])\n",
        "plt.figure(figsize = (8,5))\n",
        "sns.heatmap(conf_matrix, annot=True,fmt='d',cmap=\"YlGnBu\");\n",
        "\n",
        "print(accuracy_score(y_test,y_pred))\n",
        "print(classification_report(y_test,y_pred))\n",
        "confusion_matrix(y_test,y_pred)"
      ]
    },
    {
      "cell_type": "code",
      "execution_count": 117,
      "metadata": {
        "id": "xVuCvG4xeg1z"
      },
      "outputs": [],
      "source": [
        "TP = cm[1,1] # true positive \n",
        "TN = cm[0,0] # true negatives\n",
        "FP = cm[0,1] # false positives\n",
        "FN = cm[1,0] # false negatives"
      ]
    },
    {
      "cell_type": "code",
      "execution_count": null,
      "metadata": {
        "colab": {
          "base_uri": "https://localhost:8080/"
        },
        "id": "zF0-mB8chDck",
        "outputId": "cc9c6707-0e72-453c-8222-d04b1eee138b"
      },
      "outputs": [
        {
          "name": "stdout",
          "output_type": "stream",
          "text": [
            "Sensitivity:- 0.673469387755102\n",
            "Specificity:- 0.9996013881072969\n",
            "Precsison:- 0.7443609022556391\n",
            "F1-Score:- 0.7071428571428572\n"
          ]
        }
      ],
      "source": [
        "print(\"Sensitivity:-\",TP / float(TP+FN))\n",
        "print(\"Specificity:-\", TN / float(TN+FP))\n",
        "print(\"Precsison:-\", TP / float(TP+FP))\n",
        "print(\"F1-Score:-\", f1_score(y_test, y_pred))"
      ]
    },
    {
      "cell_type": "code",
      "execution_count": null,
      "metadata": {
        "id": "KQutJTCa335G"
      },
      "outputs": [],
      "source": [
        ""
      ]
    },
    {
      "cell_type": "markdown",
      "metadata": {
        "id": "Sm_k9GNvhFQW"
      },
      "source": [
        "##Random Forest"
      ]
    },
    {
      "cell_type": "code",
      "execution_count": null,
      "metadata": {
        "id": "mBlkjfDzpLKF"
      },
      "outputs": [],
      "source": [
        ""
      ]
    },
    {
      "cell_type": "code",
      "execution_count": 118,
      "metadata": {
        "colab": {
          "base_uri": "https://localhost:8080/",
          "height": 528
        },
        "id": "Rq1G2br9hI1M",
        "outputId": "3d36a572-f2da-4248-bfd0-199e919b7dd9"
      },
      "outputs": [
        {
          "output_type": "stream",
          "name": "stdout",
          "text": [
            "0.9995962220427653\n",
            "              precision    recall  f1-score   support\n",
            "\n",
            "           0       1.00      1.00      1.00     56864\n",
            "           1       0.97      0.79      0.87        98\n",
            "\n",
            "    accuracy                           1.00     56962\n",
            "   macro avg       0.99      0.89      0.93     56962\n",
            "weighted avg       1.00      1.00      1.00     56962\n",
            "\n"
          ]
        },
        {
          "output_type": "execute_result",
          "data": {
            "text/plain": [
              "array([[56862,     2],\n",
              "       [   21,    77]])"
            ]
          },
          "metadata": {},
          "execution_count": 118
        },
        {
          "output_type": "display_data",
          "data": {
            "image/png": "[encoded data removed]",
            "text/plain": [
              "<Figure size 576x360 with 2 Axes>"
            ]
          },
          "metadata": {
            "needs_background": "light"
          }
        }
      ],
      "source": [
        "from sklearn.ensemble import RandomForestClassifier\n",
        "random_forest = RandomForestClassifier()\n",
        "random_forest.fit(X_train,y_train.values.ravel())\n",
        "y_pred = random_forest.predict(X_test)\n",
        "cm=confusion_matrix(y_test,y_pred)\n",
        "conf_matrix=pd.DataFrame(data=cm,columns=['Predicted:0','Predicted:1'],index=['Actual:0','Actual:1'])\n",
        "plt.figure(figsize = (8,5))\n",
        "sns.heatmap(conf_matrix, annot=True,fmt='d',cmap=\"YlGnBu\");\n",
        "print(accuracy_score(y_test,y_pred))\n",
        "print(classification_report(y_test,y_pred))\n",
        "confusion_matrix(y_test,y_pred)"
      ]
    },
    {
      "cell_type": "code",
      "execution_count": 119,
      "metadata": {
        "colab": {
          "base_uri": "https://localhost:8080/"
        },
        "id": "Jmb6CQi43lfn",
        "outputId": "921d0eb1-f22a-4169-c545-34b23ae47670"
      },
      "outputs": [
        {
          "output_type": "stream",
          "name": "stdout",
          "text": [
            "Sensitivity:- 0.7857142857142857\n",
            "Specificity:- 0.9999648283624085\n",
            "Precsison:- 0.9746835443037974\n",
            "F1-Score:- 0.8700564971751412\n"
          ]
        }
      ],
      "source": [
        "TP = cm[1,1] # true positive \n",
        "TN = cm[0,0] # true negatives\n",
        "FP = cm[0,1] # false positives\n",
        "FN = cm[1,0] # false negatives\n",
        "print(\"Sensitivity:-\",TP / float(TP+FN))\n",
        "print(\"Specificity:-\", TN / float(TN+FP))\n",
        "print(\"Precsison:-\", TP / float(TP+FP))\n",
        "print(\"F1-Score:-\", f1_score(y_test, y_pred))"
      ]
    },
    {
      "cell_type": "code",
      "execution_count": 120,
      "metadata": {
        "colab": {
          "base_uri": "https://localhost:8080/"
        },
        "id": "iSKEpSta3xoF",
        "outputId": "60b3bf8c-b368-43b4-932e-73d0aead8ca4"
      },
      "outputs": [
        {
          "output_type": "execute_result",
          "data": {
            "text/plain": [
              "0.9475858259736083"
            ]
          },
          "metadata": {},
          "execution_count": 120
        }
      ],
      "source": [
        "y_test_pred_proba = random_forest.predict_proba(X_test)[:,1]\n",
        "auc = metrics.roc_auc_score(y_test, y_test_pred_proba)\n",
        "auc"
      ]
    },
    {
      "cell_type": "code",
      "execution_count": null,
      "metadata": {
        "colab": {
          "base_uri": "https://localhost:8080/",
          "height": 350
        },
        "id": "k9im7lEG4VYW",
        "outputId": "147daf63-5517-409c-eea6-e54f94bff3bf"
      },
      "outputs": [
        {
          "data": {
            "image/png": "[encoded data removed]",
            "text/plain": [
              "<Figure size 360x360 with 1 Axes>"
            ]
          },
          "metadata": {},
          "output_type": "display_data"
        }
      ],
      "source": [
        "draw_roc(y_test, y_test_pred_proba)"
      ]
    },
    {
      "cell_type": "markdown",
      "metadata": {
        "id": "8UOlBkeLj48p"
      },
      "source": [
        "##Logistic Regression"
      ]
    },
    {
      "cell_type": "code",
      "execution_count": null,
      "metadata": {
        "colab": {
          "base_uri": "https://localhost:8080/"
        },
        "id": "5x42IL3kILP_",
        "outputId": "0ae7b47e-8dd3-4de5-c37b-8e79b6f3e3a0"
      },
      "outputs": [
        {
          "name": "stdout",
          "output_type": "stream",
          "text": [
            "Fitting 5 folds for each of 6 candidates, totalling 30 fits\n"
          ]
        },
        {
          "data": {
            "text/plain": [
              "GridSearchCV(cv=KFold(n_splits=5, random_state=4, shuffle=True),\n",
              "             estimator=LogisticRegression(),\n",
              "             param_grid={'C': [0.01, 0.1, 1, 10, 100, 1000]},\n",
              "             return_train_score=True, scoring='roc_auc', verbose=1)"
            ]
          },
          "execution_count": 22,
          "metadata": {},
          "output_type": "execute_result"
        }
      ],
      "source": [
        "from sklearn.linear_model import LogisticRegression\n",
        "\n",
        "folds = KFold(n_splits=5, shuffle=True, random_state=4)\n",
        "\n",
        "# Specify params\n",
        "params = {\"C\": [0.01, 0.1, 1, 10, 100, 1000]}\n",
        "\n",
        "# Specifing score as recall as we are more focused on acheiving the higher sensitivity than the accuracy\n",
        "model_cv = GridSearchCV(estimator = LogisticRegression(),\n",
        "                        param_grid = params, \n",
        "                        scoring= 'roc_auc', \n",
        "                        cv = folds, \n",
        "                        verbose = 1,\n",
        "                        return_train_score=True) \n",
        "\n",
        "# Fit the model\n",
        "model_cv.fit(X_train, y_train)"
      ]
    },
    {
      "cell_type": "code",
      "execution_count": null,
      "metadata": {
        "colab": {
          "base_uri": "https://localhost:8080/",
          "height": 388
        },
        "id": "eS5WzT5wI44l",
        "outputId": "38a0e940-3aee-4008-a41f-e16cb3b0633c"
      },
      "outputs": [
        {
          "data": {
            "text/html": [
              "\n",
              "  <div id=\"df-aae200df-63dd-4ffc-a781-1ca061c508e5\">\n",
              "    <div class=\"colab-df-container\">\n",
              "      <div>\n",
              "<style scoped>\n",
              "    .dataframe tbody tr th:only-of-type {\n",
              "        vertical-align: middle;\n",
              "    }\n",
              "\n",
              "    .dataframe tbody tr th {\n",
              "        vertical-align: top;\n",
              "    }\n",
              "\n",
              "    .dataframe thead th {\n",
              "        text-align: right;\n",
              "    }\n",
              "</style>\n",
              "<table border=\"1\" class=\"dataframe\">\n",
              "  <thead>\n",
              "    <tr style=\"text-align: right;\">\n",
              "      <th></th>\n",
              "      <th>mean_fit_time</th>\n",
              "      <th>std_fit_time</th>\n",
              "      <th>mean_score_time</th>\n",
              "      <th>std_score_time</th>\n",
              "      <th>param_C</th>\n",
              "      <th>params</th>\n",
              "      <th>split0_test_score</th>\n",
              "      <th>split1_test_score</th>\n",
              "      <th>split2_test_score</th>\n",
              "      <th>split3_test_score</th>\n",
              "      <th>split4_test_score</th>\n",
              "      <th>mean_test_score</th>\n",
              "      <th>std_test_score</th>\n",
              "      <th>rank_test_score</th>\n",
              "      <th>split0_train_score</th>\n",
              "      <th>split1_train_score</th>\n",
              "      <th>split2_train_score</th>\n",
              "      <th>split3_train_score</th>\n",
              "      <th>split4_train_score</th>\n",
              "      <th>mean_train_score</th>\n",
              "      <th>std_train_score</th>\n",
              "    </tr>\n",
              "  </thead>\n",
              "  <tbody>\n",
              "    <tr>\n",
              "      <th>0</th>\n",
              "      <td>0.903285</td>\n",
              "      <td>0.024160</td>\n",
              "      <td>0.028800</td>\n",
              "      <td>0.001799</td>\n",
              "      <td>0.01</td>\n",
              "      <td>{'C': 0.01}</td>\n",
              "      <td>0.987967</td>\n",
              "      <td>0.985494</td>\n",
              "      <td>0.972633</td>\n",
              "      <td>0.951748</td>\n",
              "      <td>0.990285</td>\n",
              "      <td>0.977626</td>\n",
              "      <td>0.014309</td>\n",
              "      <td>1</td>\n",
              "      <td>0.982512</td>\n",
              "      <td>0.982766</td>\n",
              "      <td>0.980043</td>\n",
              "      <td>0.987291</td>\n",
              "      <td>0.979744</td>\n",
              "      <td>0.982471</td>\n",
              "      <td>0.002707</td>\n",
              "    </tr>\n",
              "    <tr>\n",
              "      <th>1</th>\n",
              "      <td>1.336198</td>\n",
              "      <td>0.057298</td>\n",
              "      <td>0.027871</td>\n",
              "      <td>0.000652</td>\n",
              "      <td>0.1</td>\n",
              "      <td>{'C': 0.1}</td>\n",
              "      <td>0.985269</td>\n",
              "      <td>0.979670</td>\n",
              "      <td>0.971300</td>\n",
              "      <td>0.949260</td>\n",
              "      <td>0.989610</td>\n",
              "      <td>0.975022</td>\n",
              "      <td>0.014261</td>\n",
              "      <td>2</td>\n",
              "      <td>0.981847</td>\n",
              "      <td>0.982173</td>\n",
              "      <td>0.977725</td>\n",
              "      <td>0.985928</td>\n",
              "      <td>0.977432</td>\n",
              "      <td>0.981021</td>\n",
              "      <td>0.003157</td>\n",
              "    </tr>\n",
              "    <tr>\n",
              "      <th>2</th>\n",
              "      <td>1.464107</td>\n",
              "      <td>0.075014</td>\n",
              "      <td>0.027771</td>\n",
              "      <td>0.000791</td>\n",
              "      <td>1</td>\n",
              "      <td>{'C': 1}</td>\n",
              "      <td>0.984152</td>\n",
              "      <td>0.977491</td>\n",
              "      <td>0.971000</td>\n",
              "      <td>0.948576</td>\n",
              "      <td>0.988652</td>\n",
              "      <td>0.973974</td>\n",
              "      <td>0.014038</td>\n",
              "      <td>3</td>\n",
              "      <td>0.981298</td>\n",
              "      <td>0.981712</td>\n",
              "      <td>0.977015</td>\n",
              "      <td>0.985166</td>\n",
              "      <td>0.976493</td>\n",
              "      <td>0.980337</td>\n",
              "      <td>0.003223</td>\n",
              "    </tr>\n",
              "    <tr>\n",
              "      <th>3</th>\n",
              "      <td>1.492716</td>\n",
              "      <td>0.058400</td>\n",
              "      <td>0.027404</td>\n",
              "      <td>0.000299</td>\n",
              "      <td>10</td>\n",
              "      <td>{'C': 10}</td>\n",
              "      <td>0.983999</td>\n",
              "      <td>0.977233</td>\n",
              "      <td>0.970979</td>\n",
              "      <td>0.948506</td>\n",
              "      <td>0.988507</td>\n",
              "      <td>0.973845</td>\n",
              "      <td>0.013999</td>\n",
              "      <td>4</td>\n",
              "      <td>0.981225</td>\n",
              "      <td>0.981651</td>\n",
              "      <td>0.976929</td>\n",
              "      <td>0.985070</td>\n",
              "      <td>0.976380</td>\n",
              "      <td>0.980251</td>\n",
              "      <td>0.003229</td>\n",
              "    </tr>\n",
              "    <tr>\n",
              "      <th>4</th>\n",
              "      <td>1.467014</td>\n",
              "      <td>0.070557</td>\n",
              "      <td>0.027255</td>\n",
              "      <td>0.000204</td>\n",
              "      <td>100</td>\n",
              "      <td>{'C': 100}</td>\n",
              "      <td>0.983983</td>\n",
              "      <td>0.977213</td>\n",
              "      <td>0.970979</td>\n",
              "      <td>0.948498</td>\n",
              "      <td>0.988491</td>\n",
              "      <td>0.973833</td>\n",
              "      <td>0.013995</td>\n",
              "      <td>5</td>\n",
              "      <td>0.981218</td>\n",
              "      <td>0.981642</td>\n",
              "      <td>0.976919</td>\n",
              "      <td>0.985059</td>\n",
              "      <td>0.976366</td>\n",
              "      <td>0.980241</td>\n",
              "      <td>0.003231</td>\n",
              "    </tr>\n",
              "    <tr>\n",
              "      <th>5</th>\n",
              "      <td>1.465682</td>\n",
              "      <td>0.086304</td>\n",
              "      <td>0.027658</td>\n",
              "      <td>0.000513</td>\n",
              "      <td>1000</td>\n",
              "      <td>{'C': 1000}</td>\n",
              "      <td>0.983983</td>\n",
              "      <td>0.977208</td>\n",
              "      <td>0.970979</td>\n",
              "      <td>0.948497</td>\n",
              "      <td>0.988489</td>\n",
              "      <td>0.973831</td>\n",
              "      <td>0.013995</td>\n",
              "      <td>6</td>\n",
              "      <td>0.981217</td>\n",
              "      <td>0.981642</td>\n",
              "      <td>0.976918</td>\n",
              "      <td>0.985057</td>\n",
              "      <td>0.976364</td>\n",
              "      <td>0.980240</td>\n",
              "      <td>0.003230</td>\n",
              "    </tr>\n",
              "  </tbody>\n",
              "</table>\n",
              "</div>\n",
              "      <button class=\"colab-df-convert\" onclick=\"convertToInteractive('df-aae200df-63dd-4ffc-a781-1ca061c508e5')\"\n",
              "              title=\"Convert this dataframe to an interactive table.\"\n",
              "              style=\"display:none;\">\n",
              "        \n",
              "  <svg xmlns=\"http://www.w3.org/2000/svg\" height=\"24px\"viewBox=\"0 0 24 24\"\n",
              "       width=\"24px\">\n",
              "    <path d=\"M0 0h24v24H0V0z\" fill=\"none\"/>\n",
              "    <path d=\"M18.56 5.44l.94 2.06.94-2.06 2.06-.94-2.06-.94-.94-2.06-.94 2.06-2.06.94zm-11 1L8.5 8.5l.94-2.06 2.06-.94-2.06-.94L8.5 2.5l-.94 2.06-2.06.94zm10 10l.94 2.06.94-2.06 2.06-.94-2.06-.94-.94-2.06-.94 2.06-2.06.94z\"/><path d=\"M17.41 7.96l-1.37-1.37c-.4-.4-.92-.59-1.43-.59-.52 0-1.04.2-1.43.59L10.3 9.45l-7.72 7.72c-.78.78-.78 2.05 0 2.83L4 21.41c.39.39.9.59 1.41.59.51 0 1.02-.2 1.41-.59l7.78-7.78 2.81-2.81c.8-.78.8-2.07 0-2.86zM5.41 20L4 18.59l7.72-7.72 1.47 1.35L5.41 20z\"/>\n",
              "  </svg>\n",
              "      </button>\n",
              "      \n",
              "  <style>\n",
              "    .colab-df-container {\n",
              "      display:flex;\n",
              "      flex-wrap:wrap;\n",
              "      gap: 12px;\n",
              "    }\n",
              "\n",
              "    .colab-df-convert {\n",
              "      background-color: #E8F0FE;\n",
              "      border: none;\n",
              "      border-radius: 50%;\n",
              "      cursor: pointer;\n",
              "      display: none;\n",
              "      fill: #1967D2;\n",
              "      height: 32px;\n",
              "      padding: 0 0 0 0;\n",
              "      width: 32px;\n",
              "    }\n",
              "\n",
              "    .colab-df-convert:hover {\n",
              "      background-color: #E2EBFA;\n",
              "      box-shadow: 0px 1px 2px rgba(60, 64, 67, 0.3), 0px 1px 3px 1px rgba(60, 64, 67, 0.15);\n",
              "      fill: #174EA6;\n",
              "    }\n",
              "\n",
              "    [theme=dark] .colab-df-convert {\n",
              "      background-color: #3B4455;\n",
              "      fill: #D2E3FC;\n",
              "    }\n",
              "\n",
              "    [theme=dark] .colab-df-convert:hover {\n",
              "      background-color: #434B5C;\n",
              "      box-shadow: 0px 1px 3px 1px rgba(0, 0, 0, 0.15);\n",
              "      filter: drop-shadow(0px 1px 2px rgba(0, 0, 0, 0.3));\n",
              "      fill: #FFFFFF;\n",
              "    }\n",
              "  </style>\n",
              "\n",
              "      <script>\n",
              "        const buttonEl =\n",
              "          document.querySelector('#df-aae200df-63dd-4ffc-a781-1ca061c508e5 button.colab-df-convert');\n",
              "        buttonEl.style.display =\n",
              "          google.colab.kernel.accessAllowed ? 'block' : 'none';\n",
              "\n",
              "        async function convertToInteractive(key) {\n",
              "          const element = document.querySelector('#df-aae200df-63dd-4ffc-a781-1ca061c508e5');\n",
              "          const dataTable =\n",
              "            await google.colab.kernel.invokeFunction('convertToInteractive',\n",
              "                                                     [key], {});\n",
              "          if (!dataTable) return;\n",
              "\n",
              "          const docLinkHtml = 'Like what you see? Visit the ' +\n",
              "            '<a target=\"_blank\" href=https://colab.research.google.com/notebooks/data_table.ipynb>data table notebook</a>'\n",
              "            + ' to learn more about interactive tables.';\n",
              "          element.innerHTML = '';\n",
              "          dataTable['output_type'] = 'display_data';\n",
              "          await google.colab.output.renderOutput(dataTable, element);\n",
              "          const docLink = document.createElement('div');\n",
              "          docLink.innerHTML = docLinkHtml;\n",
              "          element.appendChild(docLink);\n",
              "        }\n",
              "      </script>\n",
              "    </div>\n",
              "  </div>\n",
              "  "
            ],
            "text/plain": [
              "   mean_fit_time  std_fit_time  ...  mean_train_score  std_train_score\n",
              "0       0.903285      0.024160  ...          0.982471         0.002707\n",
              "1       1.336198      0.057298  ...          0.981021         0.003157\n",
              "2       1.464107      0.075014  ...          0.980337         0.003223\n",
              "3       1.492716      0.058400  ...          0.980251         0.003229\n",
              "4       1.467014      0.070557  ...          0.980241         0.003231\n",
              "5       1.465682      0.086304  ...          0.980240         0.003230\n",
              "\n",
              "[6 rows x 21 columns]"
            ]
          },
          "execution_count": 23,
          "metadata": {},
          "output_type": "execute_result"
        }
      ],
      "source": [
        "cv_results = pd.DataFrame(model_cv.cv_results_)\n",
        "cv_results"
      ]
    },
    {
      "cell_type": "code",
      "execution_count": null,
      "metadata": {
        "colab": {
          "base_uri": "https://localhost:8080/",
          "height": 392
        },
        "id": "mkrJlFebJMok",
        "outputId": "62ffcd1d-7f32-4996-b3b7-ddcdc73994d0"
      },
      "outputs": [
        {
          "data": {
            "image/png": "[encoded data removed]",
            "text/plain": [
              "<Figure size 576x432 with 1 Axes>"
            ]
          },
          "metadata": {},
          "output_type": "display_data"
        }
      ],
      "source": [
        "plt.figure(figsize=(8, 6))\n",
        "plt.plot(cv_results['param_C'], cv_results['mean_test_score'])\n",
        "plt.plot(cv_results['param_C'], cv_results['mean_train_score'])\n",
        "plt.xlabel('C')\n",
        "plt.ylabel('roc_auc')\n",
        "plt.legend(['test result', 'train result'], loc='upper left')\n",
        "plt.xscale('log')"
      ]
    },
    {
      "cell_type": "code",
      "execution_count": null,
      "metadata": {
        "colab": {
          "base_uri": "https://localhost:8080/"
        },
        "id": "Vy4U0cBYKfA1",
        "outputId": "d6abe64d-afce-4aed-ebd9-0410d53235d8"
      },
      "outputs": [
        {
          "data": {
            "text/plain": [
              "Counter({0: 85296, 1: 147})"
            ]
          },
          "execution_count": 25,
          "metadata": {},
          "output_type": "execute_result"
        }
      ],
      "source": [
        "Counter(y_test)"
      ]
    },
    {
      "cell_type": "code",
      "execution_count": null,
      "metadata": {
        "colab": {
          "base_uri": "https://localhost:8080/"
        },
        "id": "-oJh8ZISJUz-",
        "outputId": "6ec2eccf-6b4d-48aa-f63f-9902ac161d8f"
      },
      "outputs": [
        {
          "name": "stdout",
          "output_type": "stream",
          "text": [
            " The highest test roc_auc is 0.9776255886854004 at C = 0.01\n"
          ]
        }
      ],
      "source": [
        "# Best score with best C\n",
        "best_score = model_cv.best_score_\n",
        "best_C = model_cv.best_params_['C']\n",
        "\n",
        "print(\" The highest test roc_auc is {0} at C = {1}\".format(best_score, best_C))"
      ]
    },
    {
      "cell_type": "code",
      "execution_count": null,
      "metadata": {
        "id": "QmEkS5-pJYAF"
      },
      "outputs": [],
      "source": [
        ""
      ]
    },
    {
      "cell_type": "code",
      "execution_count": 134,
      "metadata": {
        "colab": {
          "base_uri": "https://localhost:8080/",
          "height": 528
        },
        "id": "YGhaJim8j88Z",
        "outputId": "026ddf2c-a6ed-40fd-eadd-06ffb68c0d98"
      },
      "outputs": [
        {
          "output_type": "stream",
          "name": "stdout",
          "text": [
            "0.9985955549313578\n",
            "              precision    recall  f1-score   support\n",
            "\n",
            "           0       1.00      1.00      1.00     56864\n",
            "           1       0.82      0.23      0.37        98\n",
            "\n",
            "    accuracy                           1.00     56962\n",
            "   macro avg       0.91      0.62      0.68     56962\n",
            "weighted avg       1.00      1.00      1.00     56962\n",
            "\n"
          ]
        },
        {
          "output_type": "execute_result",
          "data": {
            "text/plain": [
              "array([[56859,     5],\n",
              "       [   75,    23]])"
            ]
          },
          "metadata": {},
          "execution_count": 134
        },
        {
          "output_type": "display_data",
          "data": {
            "image/png": "[encoded data removed]",
            "text/plain": [
              "<Figure size 576x360 with 2 Axes>"
            ]
          },
          "metadata": {
            "needs_background": "light"
          }
        }
      ],
      "source": [
        "\n",
        "model = LogisticRegression(C=0.0001)\n",
        "model.fit(X_train,y_train)\n",
        "y_pred = model.predict(X_test)\n",
        "cm=confusion_matrix(y_test,y_pred)\n",
        "conf_matrix=pd.DataFrame(data=cm,columns=['Predicted:0','Predicted:1'],index=['Actual:0','Actual:1'])\n",
        "plt.figure(figsize = (8,5))\n",
        "sns.heatmap(conf_matrix, annot=True,fmt='d',cmap=\"YlGnBu\");\n",
        "print(accuracy_score(y_test,y_pred))\n",
        "print(classification_report(y_test,y_pred))\n",
        "confusion_matrix(y_test,y_pred)"
      ]
    },
    {
      "cell_type": "code",
      "execution_count": 123,
      "metadata": {
        "id": "83EDqbaIXAsD"
      },
      "outputs": [],
      "source": [
        "y_test_pred = model.predict(X_test)"
      ]
    },
    {
      "cell_type": "code",
      "execution_count": 124,
      "metadata": {
        "colab": {
          "base_uri": "https://localhost:8080/"
        },
        "id": "4OhFE6hzCLL3",
        "outputId": "24fb9dae-6675-4341-a570-e0d5070941eb"
      },
      "outputs": [
        {
          "output_type": "execute_result",
          "data": {
            "text/plain": [
              "0.9999999999999999"
            ]
          },
          "metadata": {},
          "execution_count": 124
        }
      ],
      "source": [
        "y_test_pred_proba = model.predict_proba(X_test)[:,1]\n",
        "auc = metrics.roc_auc_score(y_test_pred, y_test_pred_proba)\n",
        "auc"
      ]
    },
    {
      "cell_type": "code",
      "execution_count": 125,
      "metadata": {
        "id": "QOcRuceFVBRK"
      },
      "outputs": [],
      "source": [
        "TP = cm[1,1] # true positive \n",
        "TN = cm[0,0] # true negatives\n",
        "FP = cm[0,1] # false positives\n",
        "FN = cm[1,0] # false negatives"
      ]
    },
    {
      "cell_type": "code",
      "execution_count": 126,
      "metadata": {
        "colab": {
          "base_uri": "https://localhost:8080/"
        },
        "id": "QeYxF9WNVG3K",
        "outputId": "43994b70-343e-4413-85a7-2d1994ac64b0"
      },
      "outputs": [
        {
          "output_type": "stream",
          "name": "stdout",
          "text": [
            "Sensitivity:- 0.23469387755102042\n",
            "Specificity:- 0.9999120709060214\n",
            "Precsison:- 0.8214285714285714\n",
            "F1-Score:- 0.3650793650793651\n"
          ]
        }
      ],
      "source": [
        "print(\"Sensitivity:-\",TP / float(TP+FN))\n",
        "print(\"Specificity:-\", TN / float(TN+FP))\n",
        "print(\"Precsison:-\", TP / float(TP+FP))\n",
        "print(\"F1-Score:-\", f1_score(y_test, y_test_pred))\n"
      ]
    },
    {
      "cell_type": "markdown",
      "metadata": {
        "id": "nhQGzaG-kuvi"
      },
      "source": [
        "##K-Nearest neighbour"
      ]
    },
    {
      "cell_type": "code",
      "execution_count": 127,
      "metadata": {
        "colab": {
          "base_uri": "https://localhost:8080/",
          "height": 528
        },
        "id": "zNCrSDSnk1DJ",
        "outputId": "8457de8e-feb1-4e7c-b52d-33818484afd4"
      },
      "outputs": [
        {
          "output_type": "stream",
          "name": "stdout",
          "text": [
            "0.9995435553526912\n",
            "              precision    recall  f1-score   support\n",
            "\n",
            "           0       1.00      1.00      1.00     56864\n",
            "           1       0.94      0.79      0.86        98\n",
            "\n",
            "    accuracy                           1.00     56962\n",
            "   macro avg       0.97      0.89      0.93     56962\n",
            "weighted avg       1.00      1.00      1.00     56962\n",
            "\n"
          ]
        },
        {
          "output_type": "execute_result",
          "data": {
            "text/plain": [
              "array([[56859,     5],\n",
              "       [   21,    77]])"
            ]
          },
          "metadata": {},
          "execution_count": 127
        },
        {
          "output_type": "display_data",
          "data": {
            "image/png": "[encoded data removed]",
            "text/plain": [
              "<Figure size 576x360 with 2 Axes>"
            ]
          },
          "metadata": {
            "needs_background": "light"
          }
        }
      ],
      "source": [
        "from sklearn.neighbors import KNeighborsClassifier\n",
        "\n",
        "knn = KNeighborsClassifier(n_neighbors =5)\n",
        "knn.fit(X_train,y_train)\n",
        "y_pred = knn.predict(X_test)\n",
        "cm=confusion_matrix(y_test,y_pred)\n",
        "conf_matrix=pd.DataFrame(data=cm,columns=['Predicted:0','Predicted:1'],index=['Actual:0','Actual:1'])\n",
        "plt.figure(figsize = (8,5))\n",
        "sns.heatmap(conf_matrix, annot=True, fmt='g');\n",
        "print(accuracy_score(y_test,y_pred))\n",
        "print(classification_report(y_test,y_pred))\n",
        "confusion_matrix(y_test,y_pred)"
      ]
    },
    {
      "cell_type": "code",
      "execution_count": 128,
      "metadata": {
        "colab": {
          "base_uri": "https://localhost:8080/"
        },
        "id": "H959Ku9F-sKg",
        "outputId": "859c49c7-8a48-4c7c-d1ec-e71b0f02784f"
      },
      "outputs": [
        {
          "output_type": "stream",
          "name": "stdout",
          "text": [
            "Sensitivity:- 0.7857142857142857\n",
            "Specificity:- 0.9999120709060214\n",
            "Precsison:- 0.9390243902439024\n",
            "F1-Score:- 0.8555555555555556\n"
          ]
        }
      ],
      "source": [
        "TP = cm[1,1] # true positive \n",
        "TN = cm[0,0] # true negatives\n",
        "FP = cm[0,1] # false positives\n",
        "FN = cm[1,0] # false negatives\n",
        "print(\"Sensitivity:-\",TP / float(TP+FN))\n",
        "print(\"Specificity:-\", TN / float(TN+FP))\n",
        "print(\"Precsison:-\", TP / float(TP+FP))\n",
        "print(\"F1-Score:-\", f1_score(y_test, y_pred))"
      ]
    },
    {
      "cell_type": "markdown",
      "metadata": {
        "id": "eXIZCrLvlweb"
      },
      "source": [
        "##Naive Bayes Gaussian"
      ]
    },
    {
      "cell_type": "code",
      "execution_count": 135,
      "metadata": {
        "colab": {
          "base_uri": "https://localhost:8080/",
          "height": 528
        },
        "id": "u5Y8F5-5l1KQ",
        "outputId": "95a389cf-3814-4496-f39f-30cc881360d8"
      },
      "outputs": [
        {
          "output_type": "stream",
          "name": "stdout",
          "text": [
            "0.977599101155156\n",
            "              precision    recall  f1-score   support\n",
            "\n",
            "           0       1.00      0.98      0.99     56864\n",
            "           1       0.06      0.81      0.11        98\n",
            "\n",
            "    accuracy                           0.98     56962\n",
            "   macro avg       0.53      0.89      0.55     56962\n",
            "weighted avg       1.00      0.98      0.99     56962\n",
            "\n"
          ]
        },
        {
          "output_type": "execute_result",
          "data": {
            "text/plain": [
              "array([[55607,  1257],\n",
              "       [   19,    79]])"
            ]
          },
          "metadata": {},
          "execution_count": 135
        },
        {
          "output_type": "display_data",
          "data": {
            "image/png": "[encoded data removed]",
            "text/plain": [
              "<Figure size 576x360 with 2 Axes>"
            ]
          },
          "metadata": {
            "needs_background": "light"
          }
        }
      ],
      "source": [
        "from sklearn.naive_bayes import GaussianNB  \n",
        "classifier = GaussianNB()  \n",
        "classifier.fit(X_train, y_train) \n",
        "y_pred = classifier.predict(X_test)\n",
        "cm=confusion_matrix(y_test,y_pred)\n",
        "conf_matrix=pd.DataFrame(data=cm,columns=['Predicted:0','Predicted:1'],index=['Actual:0','Actual:1'])\n",
        "plt.figure(figsize = (8,5))\n",
        "sns.heatmap(conf_matrix, annot=True, fmt='g');\n",
        "print(accuracy_score(y_test,y_pred))\n",
        "print(classification_report(y_test,y_pred))\n",
        "confusion_matrix(y_test,y_pred)"
      ]
    },
    {
      "cell_type": "code",
      "execution_count": 131,
      "metadata": {
        "colab": {
          "base_uri": "https://localhost:8080/"
        },
        "id": "zJM0rlyE65qN",
        "outputId": "7da894d5-f4a7-45dd-f7ba-4c950bbdf8cb"
      },
      "outputs": [
        {
          "output_type": "stream",
          "name": "stdout",
          "text": [
            "Sensitivity:- 0.8061224489795918\n",
            "Specificity:- 0.9778946257737761\n",
            "Precsison:- 0.05913173652694611\n",
            "F1-Score:- 0.1101813110181311\n"
          ]
        }
      ],
      "source": [
        "TP = cm[1,1] # true positive \n",
        "TN = cm[0,0] # true negatives\n",
        "FP = cm[0,1] # false positives\n",
        "FN = cm[1,0] # false negatives\n",
        "print(\"Sensitivity:-\",TP / float(TP+FN))\n",
        "print(\"Specificity:-\", TN / float(TN+FP))\n",
        "print(\"Precsison:-\", TP / float(TP+FP))\n",
        "print(\"F1-Score:-\", f1_score(y_test, y_pred))"
      ]
    },
    {
      "cell_type": "code",
      "execution_count": 132,
      "metadata": {
        "colab": {
          "base_uri": "https://localhost:8080/"
        },
        "id": "7nJMbbzP7mmP",
        "outputId": "00219f65-c926-4fc3-b8f6-b135ad68d8b4"
      },
      "outputs": [
        {
          "output_type": "execute_result",
          "data": {
            "text/plain": [
              "0.9701312045639865"
            ]
          },
          "metadata": {},
          "execution_count": 132
        }
      ],
      "source": [
        "y_test_pred_proba = classifier.predict_proba(X_test)[:,1]\n",
        "auc = metrics.roc_auc_score(y_test, y_test_pred_proba)\n",
        "auc"
      ]
    },
    {
      "cell_type": "code",
      "execution_count": 133,
      "metadata": {
        "colab": {
          "base_uri": "https://localhost:8080/",
          "height": 350
        },
        "id": "TnV8lCV47ue5",
        "outputId": "3652f9f1-bfcb-4412-c7c8-03ab858cea66"
      },
      "outputs": [
        {
          "output_type": "display_data",
          "data": {
            "image/png": "[encoded data removed]",
            "text/plain": [
              "<Figure size 360x360 with 1 Axes>"
            ]
          },
          "metadata": {
            "needs_background": "light"
          }
        }
      ],
      "source": [
        "draw_roc(y_test, y_test_pred_proba)"
      ]
    },
    {
      "cell_type": "markdown",
      "metadata": {
        "id": "Y75d4pqbd7MZ"
      },
      "source": [
        "#SMOTE"
      ]
    },
    {
      "cell_type": "code",
      "execution_count": null,
      "metadata": {
        "id": "kVpKI4jsXvvs"
      },
      "outputs": [],
      "source": [
        "from imblearn.over_sampling import SMOTE\n",
        "smote = SMOTE(sampling_strategy='minority', random_state=0)\n",
        "X_train_smote, y_train_smote = smote.fit_resample(X_train, y_train)\n"
      ]
    },
    {
      "cell_type": "code",
      "execution_count": null,
      "metadata": {
        "colab": {
          "base_uri": "https://localhost:8080/"
        },
        "id": "-bfG7jiWU97m",
        "outputId": "4b3f532f-2993-4d7a-e177-8068d9bc1288"
      },
      "outputs": [
        {
          "output_type": "stream",
          "name": "stdout",
          "text": [
            "Before sampling class distribution:- Counter({0: 227451, 1: 394})\n",
            "New class distribution:- Counter({0: 227451, 1: 227451})\n"
          ]
        }
      ],
      "source": [
        "print('Before sampling class distribution:-',Counter(y_train))\n",
        "# new class distribution \n",
        "print('New class distribution:-',Counter(y_train_smote))"
      ]
    },
    {
      "cell_type": "code",
      "source": [
        "# X_train_smote, X_test_smote, y_train_smote, y_test_smote = train_test_split(X_train_smote, y_train_smote, test_size = 0.2, random_state=42)"
      ],
      "metadata": {
        "id": "C9Aw2srRFeqr"
      },
      "execution_count": null,
      "outputs": []
    },
    {
      "cell_type": "code",
      "execution_count": null,
      "metadata": {
        "colab": {
          "base_uri": "https://localhost:8080/",
          "height": 420
        },
        "id": "RGKBUhv8Ceir",
        "outputId": "a1c49a9c-e268-4015-f4f5-7c7393df8615"
      },
      "outputs": [
        {
          "output_type": "stream",
          "name": "stderr",
          "text": [
            "/usr/local/lib/python3.7/dist-packages/seaborn/_decorators.py:43: FutureWarning: Pass the following variable as a keyword arg: x. From version 0.12, the only valid positional argument will be `data`, and passing other arguments without an explicit keyword will result in an error or misinterpretation.\n",
            "  FutureWarning\n"
          ]
        },
        {
          "output_type": "display_data",
          "data": {
            "image/png": "[encoded data removed]",
            "text/plain": [
              "<Figure size 360x360 with 1 Axes>"
            ]
          },
          "metadata": {
            "needs_background": "light"
          }
        }
      ],
      "source": [
        "plt.figure(figsize=(5,5))\n",
        "plt.title('Distribution of Target Variables After SMOTE \\n(0 = Genuine | 1 = Fraudulent)')\n",
        "sns.countplot(y_train_smote);"
      ]
    },
    {
      "cell_type": "code",
      "source": [
        ""
      ],
      "metadata": {
        "id": "48nJjNkBc80z"
      },
      "execution_count": null,
      "outputs": []
    },
    {
      "cell_type": "code",
      "execution_count": null,
      "metadata": {
        "colab": {
          "base_uri": "https://localhost:8080/",
          "height": 541
        },
        "id": "JoWA-G4GYNuZ",
        "outputId": "1154ba74-c9db-494c-bfa4-131ce7cb337b"
      },
      "outputs": [
        {
          "output_type": "stream",
          "name": "stdout",
          "text": [
            "0.9843931041747129\n",
            "              precision    recall  f1-score   support\n",
            "\n",
            "           0       1.00      0.98      0.99     56864\n",
            "           1       0.09      0.91      0.17        98\n",
            "\n",
            "    accuracy                           0.98     56962\n",
            "   macro avg       0.55      0.95      0.58     56962\n",
            "weighted avg       1.00      0.98      0.99     56962\n",
            "\n"
          ]
        },
        {
          "output_type": "execute_result",
          "data": {
            "text/plain": [
              "array([[55984,   880],\n",
              "       [    9,    89]])"
            ]
          },
          "metadata": {},
          "execution_count": 21
        },
        {
          "output_type": "display_data",
          "data": {
            "image/png": "[encoded data removed]",
            "text/plain": [
              "<Figure size 576x360 with 2 Axes>"
            ]
          },
          "metadata": {
            "needs_background": "light"
          }
        }
      ],
      "source": [
        "model = LogisticRegression(C=0.0001)\n",
        "logi_model=model.fit(X_train_smote,y_train_smote)\n",
        "y_pred = logi_model.predict(X_test)\n",
        "cm=confusion_matrix(y_test,y_pred)\n",
        "conf_matrix=pd.DataFrame(data=cm,columns=['Predicted:0','Predicted:1'],index=['Actual:0','Actual:1'])\n",
        "plt.figure(figsize = (8,5))\n",
        "sns.heatmap(conf_matrix, annot=True,fmt='d',cmap=\"YlGnBu\");\n",
        "print(accuracy_score(y_test,y_pred))\n",
        "print(classification_report(y_test,y_pred))\n",
        "confusion_matrix(y_test,y_pred)\n",
        "\n"
      ]
    },
    {
      "cell_type": "code",
      "execution_count": null,
      "metadata": {
        "colab": {
          "base_uri": "https://localhost:8080/"
        },
        "id": "jLzay0idYrb6",
        "outputId": "2a53f947-ac87-4857-c316-b4e19081515c"
      },
      "outputs": [
        {
          "output_type": "stream",
          "name": "stdout",
          "text": [
            "Sensitivity:- 0.8571428571428571\n",
            "Precsison:- 0.9130434782608695\n",
            "F1-Score:- 0.8842105263157894\n",
            "TPR:- 0.8571428571428571\n",
            "FPR:- 0.00014068655036578504\n"
          ]
        }
      ],
      "source": [
        "TP = cm[1,1] # true positive \n",
        "TN = cm[0,0] # true negatives\n",
        "FP = cm[0,1] # false positives\n",
        "FN = cm[1,0] # false negatives\n",
        "print(\"Sensitivity:-\",TP / float(TP+FN))\n",
        "print(\"Precsison:-\", TP / float(TP+FP))\n",
        "print(\"F1-Score:-\", f1_score(y_test, y_pred))\n",
        "print(\"TPR:-\", TP / float(TP+FN))\n",
        "print(\"FPR:-\", FP / float(FP+TN))\n"
      ]
    },
    {
      "cell_type": "code",
      "source": [
        "decision_tree = DecisionTreeClassifier(criterion = \"gini\", \n",
        "                                  random_state = 100,\n",
        "                                  max_depth=5, \n",
        "                                  min_samples_leaf=100,\n",
        "                                  min_samples_split=100)\n",
        "decision_tree.fit(X_train_smote,y_train_smote)\n",
        "\n",
        "y_pred = decision_tree.predict(X_test)\n",
        "cm=confusion_matrix(y_test,y_pred)\n",
        "conf_matrix=pd.DataFrame(data=cm,columns=['Predicted:0','Predicted:1'],index=['Actual:0','Actual:1'])\n",
        "plt.figure(figsize = (8,5))\n",
        "sns.heatmap(conf_matrix, annot=True,fmt='d',cmap=\"YlGnBu\");\n",
        "print(accuracy_score(y_test,y_pred))\n",
        "print(classification_report(y_test,y_pred))\n",
        "confusion_matrix(y_test,y_pred)"
      ],
      "metadata": {
        "colab": {
          "base_uri": "https://localhost:8080/",
          "height": 541
        },
        "id": "TlWBnJbY_Hjz",
        "outputId": "c32da80a-25ed-43de-f394-aaebb24a21eb"
      },
      "execution_count": null,
      "outputs": [
        {
          "output_type": "stream",
          "name": "stdout",
          "text": [
            "0.9620975387100172\n",
            "              precision    recall  f1-score   support\n",
            "\n",
            "           0       1.00      0.96      0.98     56864\n",
            "           1       0.04      0.87      0.07        98\n",
            "\n",
            "    accuracy                           0.96     56962\n",
            "   macro avg       0.52      0.91      0.53     56962\n",
            "weighted avg       1.00      0.96      0.98     56962\n",
            "\n"
          ]
        },
        {
          "output_type": "execute_result",
          "data": {
            "text/plain": [
              "array([[54718,  2146],\n",
              "       [   13,    85]])"
            ]
          },
          "metadata": {},
          "execution_count": 45
        },
        {
          "output_type": "display_data",
          "data": {
            "image/png": "[encoded data removed]",
            "text/plain": [
              "<Figure size 576x360 with 2 Axes>"
            ]
          },
          "metadata": {
            "needs_background": "light"
          }
        }
      ]
    },
    {
      "cell_type": "code",
      "source": [
        "TP = cm[1,1] # true positive \n",
        "TN = cm[0,0] # true negatives\n",
        "FP = cm[0,1] # false positives\n",
        "FN = cm[1,0] # false negatives\n",
        "print(\"Sensitivity:-\",TP / float(TP+FN))\n",
        "print(\"Precsison:-\", TP / float(TP+FP))\n",
        "print(\"F1-Score:-\", f1_score(y_test, y_pred))\n",
        "print(\"TPR:-\", TP / float(TP+FN))\n",
        "print(\"FPR:-\", FP / float(FP+TN))\n"
      ],
      "metadata": {
        "colab": {
          "base_uri": "https://localhost:8080/"
        },
        "id": "rEkI8QRX_Vn7",
        "outputId": "fe44de4f-94be-448d-d90b-ab5b664bfbd1"
      },
      "execution_count": null,
      "outputs": [
        {
          "output_type": "stream",
          "name": "stdout",
          "text": [
            "Sensitivity:- 0.8673469387755102\n",
            "Precsison:- 0.03809950694755715\n",
            "F1-Score:- 0.07299270072992702\n",
            "TPR:- 0.8673469387755102\n",
            "FPR:- 0.03773916713562184\n"
          ]
        }
      ]
    },
    {
      "cell_type": "code",
      "execution_count": null,
      "metadata": {
        "id": "N0eaSLtkYid7",
        "colab": {
          "base_uri": "https://localhost:8080/",
          "height": 541
        },
        "outputId": "05f5bb2e-5401-4a90-b656-10d0d0e400cd"
      },
      "outputs": [
        {
          "output_type": "stream",
          "name": "stdout",
          "text": [
            "0.9996137776061234\n",
            "              precision    recall  f1-score   support\n",
            "\n",
            "           0       1.00      1.00      1.00     56864\n",
            "           1       0.91      0.86      0.88        98\n",
            "\n",
            "    accuracy                           1.00     56962\n",
            "   macro avg       0.96      0.93      0.94     56962\n",
            "weighted avg       1.00      1.00      1.00     56962\n",
            "\n"
          ]
        },
        {
          "output_type": "execute_result",
          "data": {
            "text/plain": [
              "array([[56856,     8],\n",
              "       [   14,    84]])"
            ]
          },
          "metadata": {},
          "execution_count": 48
        },
        {
          "output_type": "display_data",
          "data": {
            "image/png": "[encoded data removed]",
            "text/plain": [
              "<Figure size 576x360 with 2 Axes>"
            ]
          },
          "metadata": {
            "needs_background": "light"
          }
        }
      ],
      "source": [
        "random_forest = RandomForestClassifier(n_estimators=50, criterion='entropy',random_state=100)\n",
        "random_forest.fit(X_train_smote,y_train_smote)\n",
        "y_pred = random_forest.predict(X_test)\n",
        "cm=confusion_matrix(y_test,y_pred)\n",
        "conf_matrix=pd.DataFrame(data=cm,columns=['Predicted:0','Predicted:1'],index=['Actual:0','Actual:1'])\n",
        "plt.figure(figsize = (8,5))\n",
        "sns.heatmap(conf_matrix, annot=True,fmt='d',cmap=\"YlGnBu\");\n",
        "print(accuracy_score(y_test,y_pred))\n",
        "print(classification_report(y_test,y_pred))\n",
        "confusion_matrix(y_test,y_pred)\n"
      ]
    },
    {
      "cell_type": "code",
      "execution_count": null,
      "metadata": {
        "colab": {
          "base_uri": "https://localhost:8080/"
        },
        "id": "Wt1i-ezRYm9k",
        "outputId": "a4aeecc2-a0ef-498e-9108-41c9d00f9ebe"
      },
      "outputs": [
        {
          "output_type": "stream",
          "name": "stdout",
          "text": [
            "Sensitivity:- 0.8469387755102041\n",
            "Precsison:- 0.9222222222222223\n",
            "F1-Score:- 0.8829787234042554\n",
            "TPR:- 0.8469387755102041\n",
            "FPR:- 0.0001231007315700619\n"
          ]
        }
      ],
      "source": [
        "TP = cm[1,1] # true positive \n",
        "TN = cm[0,0] # true negatives\n",
        "FP = cm[0,1] # false positives\n",
        "FN = cm[1,0] # false negatives\n",
        "print(\"Sensitivity:-\",TP / float(TP+FN))\n",
        "print(\"Precsison:-\", TP / float(TP+FP))\n",
        "print(\"F1-Score:-\", f1_score(y_test, y_pred))\n",
        "print(\"TPR:-\", TP / float(TP+FN))\n",
        "print(\"FPR:-\", FP / float(FP+TN))"
      ]
    },
    {
      "cell_type": "code",
      "source": [
        "knn = KNeighborsClassifier(n_neighbors =5)\n",
        "knn.fit(X_train_smote, y_train_smote)\n",
        "y_pred = knn.predict(X_test)\n",
        "cm=confusion_matrix(y_test,y_pred)\n",
        "conf_matrix=pd.DataFrame(data=cm,columns=['Predicted:0','Predicted:1'],index=['Actual:0','Actual:1'])\n",
        "plt.figure(figsize = (8,5))\n",
        "sns.heatmap(conf_matrix, annot=True,fmt='d',cmap=\"YlGnBu\");\n",
        "print(accuracy_score(y_test,y_pred))\n",
        "print(classification_report(y_test,y_pred))\n",
        "confusion_matrix(y_test,y_pred)"
      ],
      "metadata": {
        "colab": {
          "base_uri": "https://localhost:8080/",
          "height": 541
        },
        "id": "NlVLlN4p-V9s",
        "outputId": "c47aba64-7799-4371-e1b3-e8da4d01e651"
      },
      "execution_count": null,
      "outputs": [
        {
          "output_type": "stream",
          "name": "stdout",
          "text": [
            "0.9980864435939749\n",
            "              precision    recall  f1-score   support\n",
            "\n",
            "           0       1.00      1.00      1.00     56864\n",
            "           1       0.47      0.88      0.61        98\n",
            "\n",
            "    accuracy                           1.00     56962\n",
            "   macro avg       0.73      0.94      0.81     56962\n",
            "weighted avg       1.00      1.00      1.00     56962\n",
            "\n"
          ]
        },
        {
          "output_type": "execute_result",
          "data": {
            "text/plain": [
              "array([[56767,    97],\n",
              "       [   12,    86]])"
            ]
          },
          "metadata": {},
          "execution_count": 44
        },
        {
          "output_type": "display_data",
          "data": {
            "image/png": "[encoded data removed]",
            "text/plain": [
              "<Figure size 576x360 with 2 Axes>"
            ]
          },
          "metadata": {
            "needs_background": "light"
          }
        }
      ]
    },
    {
      "cell_type": "code",
      "source": [
        "TP = cm[1,1] # true positive \n",
        "TN = cm[0,0] # true negatives\n",
        "FP = cm[0,1] # false positives\n",
        "FN = cm[1,0] # false negatives\n",
        "print(\"Sensitivity:-\",TP / float(TP+FN))\n",
        "print(\"Precsison:-\", TP / float(TP+FP))\n",
        "print(\"F1-Score:-\", f1_score(y_test, y_pred))\n",
        "print(\"TPR:-\", TP / float(TP+FN))\n",
        "print(\"FPR:-\", FP / float(FP+TN))"
      ],
      "metadata": {
        "id": "j3rfjlug-haM"
      },
      "execution_count": null,
      "outputs": []
    },
    {
      "cell_type": "code",
      "execution_count": null,
      "metadata": {
        "colab": {
          "base_uri": "https://localhost:8080/",
          "height": 541
        },
        "id": "-1cnV3xYYyQV",
        "outputId": "b75cdef0-60cd-4a52-f7dc-8b45c864fe0f"
      },
      "outputs": [
        {
          "output_type": "stream",
          "name": "stdout",
          "text": [
            "0.9739475439766863\n",
            "              precision    recall  f1-score   support\n",
            "\n",
            "           0       1.00      0.97      0.99     56864\n",
            "           1       0.05      0.87      0.10        98\n",
            "\n",
            "    accuracy                           0.97     56962\n",
            "   macro avg       0.53      0.92      0.54     56962\n",
            "weighted avg       1.00      0.97      0.99     56962\n",
            "\n"
          ]
        },
        {
          "output_type": "execute_result",
          "data": {
            "text/plain": [
              "array([[55393,  1471],\n",
              "       [   13,    85]])"
            ]
          },
          "metadata": {},
          "execution_count": 43
        },
        {
          "output_type": "display_data",
          "data": {
            "image/png": "[encoded data removed]",
            "text/plain": [
              "<Figure size 576x360 with 2 Axes>"
            ]
          },
          "metadata": {
            "needs_background": "light"
          }
        }
      ],
      "source": [
        "\n",
        "classifier = GaussianNB()  \n",
        "classifier.fit(X_train_smote, y_train_smote)\n",
        "y_pred = classifier.predict(X_test)\n",
        "cm=confusion_matrix(y_test,y_pred)\n",
        "conf_matrix=pd.DataFrame(data=cm,columns=['Predicted:0','Predicted:1'],index=['Actual:0','Actual:1'])\n",
        "plt.figure(figsize = (8,5))\n",
        "sns.heatmap(conf_matrix, annot=True,fmt='d',cmap=\"YlGnBu\");\n",
        "print(accuracy_score(y_test,y_pred))\n",
        "print(classification_report(y_test,y_pred))\n",
        "confusion_matrix(y_test,y_pred)"
      ]
    },
    {
      "cell_type": "code",
      "execution_count": null,
      "metadata": {
        "colab": {
          "base_uri": "https://localhost:8080/"
        },
        "id": "kYk67DrOY2LT",
        "outputId": "201d7d35-0070-4917-cdcd-45b64792783b"
      },
      "outputs": [
        {
          "output_type": "stream",
          "name": "stdout",
          "text": [
            "Sensitivity:- 0.8673469387755102\n",
            "Precsison:- 0.05462724935732648\n",
            "F1-Score:- 0.10278113663845223\n",
            "TPR:- 0.8673469387755102\n",
            "FPR:- 0.02586873944850872\n"
          ]
        }
      ],
      "source": [
        "TP = cm[1,1] # true positive \n",
        "TN = cm[0,0] # true negatives\n",
        "FP = cm[0,1] # false positives\n",
        "FN = cm[1,0] # false negatives\n",
        "print(\"Sensitivity:-\",TP / float(TP+FN))\n",
        "print(\"Precsison:-\", TP / float(TP+FP))\n",
        "print(\"F1-Score:-\", f1_score(y_test, y_pred))\n",
        "print(\"TPR:-\", TP / float(TP+FN))\n",
        "print(\"FPR:-\", FP / float(FP+TN))"
      ]
    },
    {
      "cell_type": "markdown",
      "metadata": {
        "id": "VZkJZulyXaCE"
      },
      "source": [
        "# Under Sampling"
      ]
    },
    {
      "cell_type": "code",
      "execution_count": null,
      "metadata": {
        "colab": {
          "base_uri": "https://localhost:8080/"
        },
        "outputId": "9b26e972-5195-4492-8f1a-390903b84844",
        "id": "JUKMtC2VATFu"
      },
      "outputs": [
        {
          "output_type": "execute_result",
          "data": {
            "text/plain": [
              "Counter({0: 227451, 1: 394})"
            ]
          },
          "metadata": {},
          "execution_count": 52
        }
      ],
      "source": [
        "from collections import Counter\n",
        "Counter(y_train)"
      ]
    },
    {
      "cell_type": "code",
      "execution_count": null,
      "metadata": {
        "id": "KDmvD3ZLATGK"
      },
      "outputs": [],
      "source": [
        "from imblearn.under_sampling import RandomUnderSampler\n",
        "from collections import Counter\n",
        "rus = RandomUnderSampler(random_state=0)\n",
        "# resampling X, y\n",
        "X_train_rus, y_train_rus = rus.fit_resample(X_train, y_train)"
      ]
    },
    {
      "cell_type": "code",
      "execution_count": null,
      "metadata": {
        "colab": {
          "base_uri": "https://localhost:8080/"
        },
        "outputId": "338b7724-7f18-40ef-d741-34cd4d47c354",
        "id": "tB2ZHVeoATGK"
      },
      "outputs": [
        {
          "output_type": "stream",
          "name": "stdout",
          "text": [
            "Before sampling class distribution:- Counter({0: 227451, 1: 394})\n",
            "New class distribution:- Counter({0: 394, 1: 394})\n"
          ]
        }
      ],
      "source": [
        "print('Before sampling class distribution:-',Counter(y_train))\n",
        "# new class distribution \n",
        "print('New class distribution:-',Counter(y_train_rus))"
      ]
    },
    {
      "cell_type": "code",
      "execution_count": null,
      "metadata": {
        "colab": {
          "base_uri": "https://localhost:8080/",
          "height": 420
        },
        "outputId": "1d69c979-a7f1-4a30-88fc-139c9c67a2a5",
        "id": "h_UVtpM0ATGL"
      },
      "outputs": [
        {
          "output_type": "stream",
          "name": "stderr",
          "text": [
            "/usr/local/lib/python3.7/dist-packages/seaborn/_decorators.py:43: FutureWarning: Pass the following variable as a keyword arg: x. From version 0.12, the only valid positional argument will be `data`, and passing other arguments without an explicit keyword will result in an error or misinterpretation.\n",
            "  FutureWarning\n"
          ]
        },
        {
          "output_type": "display_data",
          "data": {
            "image/png": "[encoded data removed]",
            "text/plain": [
              "<Figure size 360x360 with 1 Axes>"
            ]
          },
          "metadata": {
            "needs_background": "light"
          }
        }
      ],
      "source": [
        "plt.figure(figsize=(5,5))\n",
        "plt.title('Distribution of Target Variables After Undersampling \\n(0 = Genuine | 1 = Fraudulent)')\n",
        "sns.countplot(y_train_rus);"
      ]
    },
    {
      "cell_type": "code",
      "execution_count": null,
      "metadata": {
        "colab": {
          "base_uri": "https://localhost:8080/",
          "height": 528
        },
        "outputId": "a9645f32-8b58-423a-811b-bc5f26c5b15e",
        "id": "EBivixOyATGM"
      },
      "outputs": [
        {
          "output_type": "stream",
          "name": "stdout",
          "text": [
            "0.999403110845827\n",
            "              precision    recall  f1-score   support\n",
            "\n",
            "           0       1.00      1.00      1.00     56864\n",
            "           1       0.85      0.80      0.82        98\n",
            "\n",
            "    accuracy                           1.00     56962\n",
            "   macro avg       0.92      0.90      0.91     56962\n",
            "weighted avg       1.00      1.00      1.00     56962\n",
            "\n"
          ]
        },
        {
          "output_type": "execute_result",
          "data": {
            "text/plain": [
              "array([[56850,    14],\n",
              "       [   20,    78]])"
            ]
          },
          "metadata": {},
          "execution_count": 56
        },
        {
          "output_type": "display_data",
          "data": {
            "image/png": "[encoded data removed]",
            "text/plain": [
              "<Figure size 576x360 with 2 Axes>"
            ]
          },
          "metadata": {
            "needs_background": "light"
          }
        }
      ],
      "source": [
        "model = LogisticRegression(C=0.0001)\n",
        "model.fit(X_train_rus,y_train_rus)\n",
        "y_pred = model.predict(X_test)\n",
        "cm=confusion_matrix(y_test,y_pred)\n",
        "conf_matrix=pd.DataFrame(data=cm,columns=['Predicted:0','Predicted:1'],index=['Actual:0','Actual:1'])\n",
        "plt.figure(figsize = (8,5))\n",
        "sns.heatmap(conf_matrix, annot=True,fmt='d',cmap=\"YlGnBu\");\n",
        "print(accuracy_score(y_test,y_pred))\n",
        "print(classification_report(y_test,y_pred))\n",
        "confusion_matrix(y_test,y_pred)"
      ]
    },
    {
      "cell_type": "code",
      "execution_count": null,
      "metadata": {
        "id": "7S8qV_UqATGM"
      },
      "outputs": [],
      "source": [
        "TP = cm[1,1] # true positive \n",
        "TN = cm[0,0] # true negatives\n",
        "FP = cm[0,1] # false positives\n",
        "FN = cm[1,0] # false negatives"
      ]
    },
    {
      "cell_type": "code",
      "execution_count": null,
      "metadata": {
        "colab": {
          "base_uri": "https://localhost:8080/"
        },
        "outputId": "a2f677d1-dba7-46df-8a9b-43f4cdbb7823",
        "id": "aewhWhuLATGN"
      },
      "outputs": [
        {
          "output_type": "stream",
          "name": "stdout",
          "text": [
            "Sensitivity:- 0.7959183673469388\n",
            "Precsison:- 0.8478260869565217\n",
            "F1-Score:- 0.8210526315789473\n",
            "TPR:- 0.7959183673469388\n",
            "FPR:- 0.0002462014631401238\n"
          ]
        }
      ],
      "source": [
        "print(\"Sensitivity:-\",TP / float(TP+FN))\n",
        "print(\"Precsison:-\", TP / float(TP+FP))\n",
        "print(\"F1-Score:-\", f1_score(y_test, y_pred))\n",
        "print(\"TPR:-\", TP / float(TP+FN))\n",
        "print(\"FPR:-\", FP / float(FP+TN))"
      ]
    },
    {
      "cell_type": "code",
      "execution_count": null,
      "metadata": {
        "colab": {
          "base_uri": "https://localhost:8080/",
          "height": 528
        },
        "outputId": "beea0584-e5d1-417c-e694-20a583074de4",
        "id": "2rMge2fwATGN"
      },
      "outputs": [
        {
          "output_type": "stream",
          "name": "stdout",
          "text": [
            "0.9840068817808364\n",
            "              precision    recall  f1-score   support\n",
            "\n",
            "           0       1.00      0.98      0.99     56864\n",
            "           1       0.08      0.83      0.15        98\n",
            "\n",
            "    accuracy                           0.98     56962\n",
            "   macro avg       0.54      0.91      0.57     56962\n",
            "weighted avg       1.00      0.98      0.99     56962\n",
            "\n"
          ]
        },
        {
          "output_type": "execute_result",
          "data": {
            "text/plain": [
              "array([[55970,   894],\n",
              "       [   17,    81]])"
            ]
          },
          "metadata": {},
          "execution_count": 59
        },
        {
          "output_type": "display_data",
          "data": {
            "image/png": "[encoded data removed]",
            "text/plain": [
              "<Figure size 576x360 with 2 Axes>"
            ]
          },
          "metadata": {
            "needs_background": "light"
          }
        }
      ],
      "source": [
        "decision_tree = DecisionTreeClassifier(criterion = \"gini\", \n",
        "                                  random_state = 100,\n",
        "                                  max_depth=5, \n",
        "                                  min_samples_leaf=100,\n",
        "                                  min_samples_split=100)\n",
        "decision_tree.fit(X_train_rus,y_train_rus)\n",
        "\n",
        "y_pred = decision_tree.predict(X_test)\n",
        "cm=confusion_matrix(y_test,y_pred)\n",
        "conf_matrix=pd.DataFrame(data=cm,columns=['Predicted:0','Predicted:1'],index=['Actual:0','Actual:1'])\n",
        "plt.figure(figsize = (8,5))\n",
        "sns.heatmap(conf_matrix, annot=True,fmt='d',cmap=\"YlGnBu\");\n",
        "print(accuracy_score(y_test,y_pred))\n",
        "print(classification_report(y_test,y_pred))\n",
        "confusion_matrix(y_test,y_pred)"
      ]
    },
    {
      "cell_type": "code",
      "execution_count": null,
      "metadata": {
        "colab": {
          "base_uri": "https://localhost:8080/"
        },
        "outputId": "31eec286-37aa-41c8-c75c-9a22381104c1",
        "id": "WhoIQO-YATGO"
      },
      "outputs": [
        {
          "output_type": "stream",
          "name": "stdout",
          "text": [
            "Sensitivity:- 0.826530612244898\n",
            "Precsison:- 0.08307692307692308\n",
            "F1-Score:- 0.15097856477166824\n",
            "TPR:- 0.826530612244898\n",
            "FPR:- 0.015721722003376477\n"
          ]
        }
      ],
      "source": [
        "TP = cm[1,1] # true positive \n",
        "TN = cm[0,0] # true negatives\n",
        "FP = cm[0,1] # false positives\n",
        "FN = cm[1,0] # false negatives\n",
        "print(\"Sensitivity:-\",TP / float(TP+FN))\n",
        "print(\"Precsison:-\", TP / float(TP+FP))\n",
        "print(\"F1-Score:-\", f1_score(y_test, y_pred))\n",
        "print(\"TPR:-\", TP / float(TP+FN))\n",
        "print(\"FPR:-\", FP / float(FP+TN))"
      ]
    },
    {
      "cell_type": "code",
      "execution_count": null,
      "metadata": {
        "colab": {
          "base_uri": "https://localhost:8080/",
          "height": 528
        },
        "outputId": "52d8586f-b9bc-4513-8982-2474ea3a23c1",
        "id": "4TKgxELJATGP"
      },
      "outputs": [
        {
          "output_type": "stream",
          "name": "stdout",
          "text": [
            "0.9860959938204417\n",
            "              precision    recall  f1-score   support\n",
            "\n",
            "           0       1.00      0.99      0.99     56864\n",
            "           1       0.10      0.91      0.18        98\n",
            "\n",
            "    accuracy                           0.99     56962\n",
            "   macro avg       0.55      0.95      0.59     56962\n",
            "weighted avg       1.00      0.99      0.99     56962\n",
            "\n"
          ]
        },
        {
          "output_type": "execute_result",
          "data": {
            "text/plain": [
              "array([[56081,   783],\n",
              "       [    9,    89]])"
            ]
          },
          "metadata": {},
          "execution_count": 61
        },
        {
          "output_type": "display_data",
          "data": {
            "image/png": "[encoded data removed]",
            "text/plain": [
              "<Figure size 576x360 with 2 Axes>"
            ]
          },
          "metadata": {
            "needs_background": "light"
          }
        }
      ],
      "source": [
        "random_forest = RandomForestClassifier(n_estimators=50, criterion='entropy',random_state=100)\n",
        "random_forest.fit(X_train_rus,y_train_rus)\n",
        "y_pred = random_forest.predict(X_test)\n",
        "cm=confusion_matrix(y_test,y_pred)\n",
        "conf_matrix=pd.DataFrame(data=cm,columns=['Predicted:0','Predicted:1'],index=['Actual:0','Actual:1'])\n",
        "plt.figure(figsize = (8,5))\n",
        "sns.heatmap(conf_matrix, annot=True,fmt='d',cmap=\"YlGnBu\");\n",
        "print(accuracy_score(y_test,y_pred))\n",
        "print(classification_report(y_test,y_pred))\n",
        "confusion_matrix(y_test,y_pred)"
      ]
    },
    {
      "cell_type": "code",
      "execution_count": null,
      "metadata": {
        "colab": {
          "base_uri": "https://localhost:8080/"
        },
        "outputId": "d511d526-d185-4eed-92d4-3320b73f28ba",
        "id": "S_Z_qBizATGP"
      },
      "outputs": [
        {
          "output_type": "stream",
          "name": "stdout",
          "text": [
            "Sensitivity:- 0.9081632653061225\n",
            "Precsison:- 0.10206422018348624\n",
            "F1-Score:- 0.18350515463917524\n",
            "TPR:- 0.9081632653061225\n",
            "FPR:- 0.01376969611705121\n"
          ]
        }
      ],
      "source": [
        "TP = cm[1,1] # true positive \n",
        "TN = cm[0,0] # true negatives\n",
        "FP = cm[0,1] # false positives\n",
        "FN = cm[1,0] # false negatives\n",
        "print(\"Sensitivity:-\",TP / float(TP+FN))\n",
        "print(\"Precsison:-\", TP / float(TP+FP))\n",
        "print(\"F1-Score:-\", f1_score(y_test, y_pred))\n",
        "print(\"TPR:-\", TP / float(TP+FN))\n",
        "print(\"FPR:-\", FP / float(FP+TN))"
      ]
    },
    {
      "cell_type": "code",
      "execution_count": null,
      "metadata": {
        "colab": {
          "base_uri": "https://localhost:8080/",
          "height": 528
        },
        "outputId": "f874f3c3-bbde-48de-99e1-fed7bf86df92",
        "id": "0okFJHfKATGQ"
      },
      "outputs": [
        {
          "output_type": "stream",
          "name": "stdout",
          "text": [
            "0.9774059899582178\n",
            "              precision    recall  f1-score   support\n",
            "\n",
            "           0       1.00      0.98      0.99     56864\n",
            "           1       0.07      0.91      0.12        98\n",
            "\n",
            "    accuracy                           0.98     56962\n",
            "   macro avg       0.53      0.94      0.56     56962\n",
            "weighted avg       1.00      0.98      0.99     56962\n",
            "\n"
          ]
        },
        {
          "output_type": "execute_result",
          "data": {
            "text/plain": [
              "array([[55586,  1278],\n",
              "       [    9,    89]])"
            ]
          },
          "metadata": {},
          "execution_count": 63
        },
        {
          "output_type": "display_data",
          "data": {
            "image/png": "[encoded data removed]",
            "text/plain": [
              "<Figure size 576x360 with 2 Axes>"
            ]
          },
          "metadata": {
            "needs_background": "light"
          }
        }
      ],
      "source": [
        "knn = KNeighborsClassifier(n_neighbors =5)\n",
        "knn.fit(X_train_rus,y_train_rus)\n",
        "y_pred = knn.predict(X_test)\n",
        "cm=confusion_matrix(y_test,y_pred)\n",
        "conf_matrix=pd.DataFrame(data=cm,columns=['Predicted:0','Predicted:1'],index=['Actual:0','Actual:1'])\n",
        "plt.figure(figsize = (8,5))\n",
        "sns.heatmap(conf_matrix, annot=True,fmt='d',cmap=\"YlGnBu\");\n",
        "print(accuracy_score(y_test,y_pred))\n",
        "print(classification_report(y_test,y_pred))\n",
        "confusion_matrix(y_test,y_pred)\n"
      ]
    },
    {
      "cell_type": "code",
      "execution_count": null,
      "metadata": {
        "colab": {
          "base_uri": "https://localhost:8080/"
        },
        "outputId": "4ace7550-8684-415f-ed19-8063832a7f2b",
        "id": "-7HmL383ATGR"
      },
      "outputs": [
        {
          "output_type": "stream",
          "name": "stdout",
          "text": [
            "Sensitivity:- 0.9081632653061225\n",
            "Precsison:- 0.06510607168983175\n",
            "F1-Score:- 0.12150170648464163\n",
            "TPR:- 0.9081632653061225\n",
            "FPR:- 0.022474676420934158\n"
          ]
        }
      ],
      "source": [
        "TP = cm[1,1] # true positive \n",
        "TN = cm[0,0] # true negatives\n",
        "FP = cm[0,1] # false positives\n",
        "FN = cm[1,0] # false negatives\n",
        "print(\"Sensitivity:-\",TP / float(TP+FN))\n",
        "print(\"Precsison:-\", TP / float(TP+FP))\n",
        "print(\"F1-Score:-\", f1_score(y_test, y_pred))\n",
        "print(\"TPR:-\", TP / float(TP+FN))\n",
        "print(\"FPR:-\", FP / float(FP+TN))"
      ]
    },
    {
      "cell_type": "code",
      "execution_count": null,
      "metadata": {
        "colab": {
          "base_uri": "https://localhost:8080/",
          "height": 528
        },
        "outputId": "866dff02-c27d-4079-df3e-3e94cfd65da2",
        "id": "DTqDc0zdATGR"
      },
      "outputs": [
        {
          "output_type": "stream",
          "name": "stdout",
          "text": [
            "0.9693830975035989\n",
            "              precision    recall  f1-score   support\n",
            "\n",
            "           0       1.00      0.97      0.98     56864\n",
            "           1       0.05      0.86      0.09        98\n",
            "\n",
            "    accuracy                           0.97     56962\n",
            "   macro avg       0.52      0.91      0.54     56962\n",
            "weighted avg       1.00      0.97      0.98     56962\n",
            "\n"
          ]
        },
        {
          "output_type": "execute_result",
          "data": {
            "text/plain": [
              "array([[55134,  1730],\n",
              "       [   14,    84]])"
            ]
          },
          "metadata": {},
          "execution_count": 65
        },
        {
          "output_type": "display_data",
          "data": {
            "image/png": "[encoded data removed]",
            "text/plain": [
              "<Figure size 576x360 with 2 Axes>"
            ]
          },
          "metadata": {
            "needs_background": "light"
          }
        }
      ],
      "source": [
        "classifier = GaussianNB()  \n",
        "classifier.fit(X_train_rus, y_train_rus)\n",
        "y_pred = classifier.predict(X_test)\n",
        "cm=confusion_matrix(y_test,y_pred)\n",
        "conf_matrix=pd.DataFrame(data=cm,columns=['Predicted:0','Predicted:1'],index=['Actual:0','Actual:1'])\n",
        "plt.figure(figsize = (8,5))\n",
        "sns.heatmap(conf_matrix, annot=True,fmt='d',cmap=\"YlGnBu\");\n",
        "print(accuracy_score(y_test,y_pred))\n",
        "print(classification_report(y_test,y_pred))\n",
        "confusion_matrix(y_test,y_pred)\n",
        "\n"
      ]
    },
    {
      "cell_type": "code",
      "execution_count": null,
      "metadata": {
        "colab": {
          "base_uri": "https://localhost:8080/"
        },
        "outputId": "0502bd8d-34d7-414c-d2d0-c1b8d1397823",
        "id": "QqNuu-h3ATGS"
      },
      "outputs": [
        {
          "output_type": "stream",
          "name": "stdout",
          "text": [
            "Sensitivity:- 0.8571428571428571\n",
            "Precsison:- 0.04630650496141125\n",
            "F1-Score:- 0.0878661087866109\n",
            "TPR:- 0.8571428571428571\n",
            "FPR:- 0.03042346651660101\n"
          ]
        }
      ],
      "source": [
        "TP = cm[1,1] # true positive \n",
        "TN = cm[0,0] # true negatives\n",
        "FP = cm[0,1] # false positives\n",
        "FN = cm[1,0] # false negatives\n",
        "print(\"Sensitivity:-\",TP / float(TP+FN))\n",
        "print(\"Precsison:-\", TP / float(TP+FP))\n",
        "print(\"F1-Score:-\", f1_score(y_test, y_pred))\n",
        "print(\"TPR:-\", TP / float(TP+FN))\n",
        "print(\"FPR:-\", FP / float(FP+TN))"
      ]
    },
    {
      "cell_type": "markdown",
      "metadata": {
        "id": "jNwZ88BVLlO4"
      },
      "source": [
        "#AdaSyn (Adaptive Synthetic Sampling)"
      ]
    },
    {
      "cell_type": "code",
      "execution_count": null,
      "metadata": {
        "id": "FadvePJrLnh9"
      },
      "outputs": [],
      "source": [
        "from imblearn.over_sampling import ADASYN"
      ]
    },
    {
      "cell_type": "code",
      "execution_count": null,
      "metadata": {
        "colab": {
          "base_uri": "https://localhost:8080/"
        },
        "id": "BGfkSBRrMNFI",
        "outputId": "be335576-6618-466c-d806-d7b2ef454e64"
      },
      "outputs": [
        {
          "output_type": "execute_result",
          "data": {
            "text/plain": [
              "(227845, 30)"
            ]
          },
          "metadata": {},
          "execution_count": 68
        }
      ],
      "source": [
        "X_train.shape"
      ]
    },
    {
      "cell_type": "code",
      "execution_count": null,
      "metadata": {
        "colab": {
          "base_uri": "https://localhost:8080/"
        },
        "id": "i5u6H-H8LoCm",
        "outputId": "02bc0945-181d-463e-c29f-59e21aab5374"
      },
      "outputs": [
        {
          "output_type": "stream",
          "name": "stdout",
          "text": [
            "Before sampling class distribution:- Counter({0: 227451, 1: 394})\n",
            "New class distribution:- Counter({1: 227462, 0: 227451})\n"
          ]
        }
      ],
      "source": [
        "ada = ADASYN(random_state=0)\n",
        "X_train_adasyn, y_train_adasyn = ada.fit_resample(X_train, y_train)\n",
        "\n",
        "# Befor sampling class distribution\n",
        "print('Before sampling class distribution:-',Counter(y_train))\n",
        "# new class distribution \n",
        "print('New class distribution:-',Counter(y_train_adasyn))"
      ]
    },
    {
      "cell_type": "code",
      "execution_count": null,
      "metadata": {
        "colab": {
          "base_uri": "https://localhost:8080/",
          "height": 420
        },
        "id": "RpqUOlL6DK1d",
        "outputId": "87cc7c35-8788-4178-c476-5b4d7fce5bf1"
      },
      "outputs": [
        {
          "output_type": "stream",
          "name": "stderr",
          "text": [
            "/usr/local/lib/python3.7/dist-packages/seaborn/_decorators.py:43: FutureWarning: Pass the following variable as a keyword arg: x. From version 0.12, the only valid positional argument will be `data`, and passing other arguments without an explicit keyword will result in an error or misinterpretation.\n",
            "  FutureWarning\n"
          ]
        },
        {
          "output_type": "display_data",
          "data": {
            "image/png": "[encoded data removed]",
            "text/plain": [
              "<Figure size 360x360 with 1 Axes>"
            ]
          },
          "metadata": {
            "needs_background": "light"
          }
        }
      ],
      "source": [
        "plt.figure(figsize=(5,5))\n",
        "plt.title('Distribution of Target Variables After AdaSyn \\n(0 = Genuine | 1 = Fraudulent)')\n",
        "sns.countplot(y_train_adasyn);"
      ]
    },
    {
      "cell_type": "code",
      "execution_count": null,
      "metadata": {
        "colab": {
          "base_uri": "https://localhost:8080/",
          "height": 528
        },
        "id": "Li2ijZkX0Shv",
        "outputId": "f7dde89d-75ce-4099-9311-8b2d3c332fef"
      },
      "outputs": [
        {
          "output_type": "stream",
          "name": "stdout",
          "text": [
            "0.9249148555177136\n",
            "              precision    recall  f1-score   support\n",
            "\n",
            "           0       1.00      0.92      0.96     56864\n",
            "           1       0.02      0.94      0.04        98\n",
            "\n",
            "    accuracy                           0.92     56962\n",
            "   macro avg       0.51      0.93      0.50     56962\n",
            "weighted avg       1.00      0.92      0.96     56962\n",
            "\n"
          ]
        },
        {
          "output_type": "execute_result",
          "data": {
            "text/plain": [
              "array([[52593,  4271],\n",
              "       [    6,    92]])"
            ]
          },
          "metadata": {},
          "execution_count": 71
        },
        {
          "output_type": "display_data",
          "data": {
            "image/png": "[encoded data removed]",
            "text/plain": [
              "<Figure size 576x360 with 2 Axes>"
            ]
          },
          "metadata": {
            "needs_background": "light"
          }
        }
      ],
      "source": [
        "model = LogisticRegression(C=0.0001)\n",
        "model.fit(X_train_adasyn, y_train_adasyn)\n",
        "y_pred = model.predict(X_test)\n",
        "cm=confusion_matrix(y_test,y_pred)\n",
        "conf_matrix=pd.DataFrame(data=cm,columns=['Predicted:0','Predicted:1'],index=['Actual:0','Actual:1'])\n",
        "plt.figure(figsize = (8,5))\n",
        "sns.heatmap(conf_matrix, annot=True,fmt='d',cmap=\"YlGnBu\");\n",
        "print(accuracy_score(y_test,y_pred))\n",
        "print(classification_report(y_test,y_pred))\n",
        "confusion_matrix(y_test,y_pred)\n"
      ]
    },
    {
      "cell_type": "code",
      "execution_count": null,
      "metadata": {
        "colab": {
          "base_uri": "https://localhost:8080/"
        },
        "id": "KLMoryfW7Sz0",
        "outputId": "5838b4b9-076d-4874-fb09-7e37dd2c7948"
      },
      "outputs": [
        {
          "output_type": "stream",
          "name": "stdout",
          "text": [
            "Sensitivity:- 0.9387755102040817\n",
            "Precsison:- 0.021086408434563372\n",
            "F1-Score:- 0.04124635731898677\n",
            "TPR:- 0.9387755102040817\n",
            "FPR:- 0.07510903207653348\n"
          ]
        }
      ],
      "source": [
        "TP = cm[1,1] # true positive \n",
        "TN = cm[0,0] # true negatives\n",
        "FP = cm[0,1] # false positives\n",
        "FN = cm[1,0] # false negatives\n",
        "print(\"Sensitivity:-\",TP / float(TP+FN))\n",
        "print(\"Precsison:-\", TP / float(TP+FP))\n",
        "print(\"F1-Score:-\", f1_score(y_test, y_pred))\n",
        "print(\"TPR:-\", TP / float(TP+FN))\n",
        "print(\"FPR:-\", FP / float(FP+TN))"
      ]
    },
    {
      "cell_type": "code",
      "execution_count": null,
      "metadata": {
        "colab": {
          "base_uri": "https://localhost:8080/",
          "height": 528
        },
        "id": "xfs1XjXg7ZaY",
        "outputId": "9595dc09-7834-4bb0-8657-36beb3ed1aeb"
      },
      "outputs": [
        {
          "output_type": "stream",
          "name": "stdout",
          "text": [
            "0.8780239457884204\n",
            "              precision    recall  f1-score   support\n",
            "\n",
            "           0       1.00      0.88      0.93     56864\n",
            "           1       0.01      0.94      0.03        98\n",
            "\n",
            "    accuracy                           0.88     56962\n",
            "   macro avg       0.51      0.91      0.48     56962\n",
            "weighted avg       1.00      0.88      0.93     56962\n",
            "\n"
          ]
        },
        {
          "output_type": "execute_result",
          "data": {
            "text/plain": [
              "array([[49922,  6942],\n",
              "       [    6,    92]])"
            ]
          },
          "metadata": {},
          "execution_count": 73
        },
        {
          "output_type": "display_data",
          "data": {
            "image/png": "[encoded data removed]",
            "text/plain": [
              "<Figure size 576x360 with 2 Axes>"
            ]
          },
          "metadata": {
            "needs_background": "light"
          }
        }
      ],
      "source": [
        "decision_tree = DecisionTreeClassifier(criterion = \"gini\", \n",
        "                                  random_state = 100,\n",
        "                                  max_depth=5, \n",
        "                                  min_samples_leaf=100,\n",
        "                                  min_samples_split=50)\n",
        "decision_tree.fit(X_train_adasyn, y_train_adasyn)\n",
        "\n",
        "y_pred = decision_tree.predict(X_test)\n",
        "cm=confusion_matrix(y_test,y_pred)\n",
        "conf_matrix=pd.DataFrame(data=cm,columns=['Predicted:0','Predicted:1'],index=['Actual:0','Actual:1'])\n",
        "plt.figure(figsize = (8,5))\n",
        "sns.heatmap(conf_matrix, annot=True,fmt='d',cmap=\"YlGnBu\");\n",
        "print(accuracy_score(y_test,y_pred))\n",
        "print(classification_report(y_test,y_pred))\n",
        "confusion_matrix(y_test,y_pred)"
      ]
    },
    {
      "cell_type": "code",
      "execution_count": null,
      "metadata": {
        "colab": {
          "base_uri": "https://localhost:8080/"
        },
        "id": "tfY5hWc_7ZOY",
        "outputId": "9aa78b35-b269-4fa5-dbdb-1fa4f1e41711"
      },
      "outputs": [
        {
          "output_type": "stream",
          "name": "stdout",
          "text": [
            "Sensitivity:- 0.9387755102040817\n",
            "Precsison:- 0.013079328973557009\n",
            "F1-Score:- 0.02579921480650589\n",
            "TPR:- 0.9387755102040817\n",
            "FPR:- 0.12208075407990997\n"
          ]
        }
      ],
      "source": [
        "TP = cm[1,1] # true positive \n",
        "TN = cm[0,0] # true negatives\n",
        "FP = cm[0,1] # false positives\n",
        "FN = cm[1,0] # false negatives\n",
        "print(\"Sensitivity:-\",TP / float(TP+FN))\n",
        "print(\"Precsison:-\", TP / float(TP+FP))\n",
        "print(\"F1-Score:-\", f1_score(y_test, y_pred))\n",
        "print(\"TPR:-\", TP / float(TP+FN))\n",
        "print(\"FPR:-\", FP / float(FP+TN))"
      ]
    },
    {
      "cell_type": "code",
      "execution_count": null,
      "metadata": {
        "colab": {
          "base_uri": "https://localhost:8080/",
          "height": 528
        },
        "id": "i4ReVrXg7Y7q",
        "outputId": "f3519a18-ae44-49f1-e999-6aa2441afcd6"
      },
      "outputs": [
        {
          "output_type": "stream",
          "name": "stdout",
          "text": [
            "0.9995259997893332\n",
            "              precision    recall  f1-score   support\n",
            "\n",
            "           0       1.00      1.00      1.00     56864\n",
            "           1       0.90      0.82      0.86        98\n",
            "\n",
            "    accuracy                           1.00     56962\n",
            "   macro avg       0.95      0.91      0.93     56962\n",
            "weighted avg       1.00      1.00      1.00     56962\n",
            "\n"
          ]
        },
        {
          "output_type": "execute_result",
          "data": {
            "text/plain": [
              "array([[56855,     9],\n",
              "       [   18,    80]])"
            ]
          },
          "metadata": {},
          "execution_count": 75
        },
        {
          "output_type": "display_data",
          "data": {
            "image/png": "[encoded data removed]",
            "text/plain": [
              "<Figure size 576x360 with 2 Axes>"
            ]
          },
          "metadata": {
            "needs_background": "light"
          }
        }
      ],
      "source": [
        "random_forest = RandomForestClassifier(n_estimators=50, criterion='entropy',random_state=100)\n",
        "random_forest.fit(X_train_adasyn, y_train_adasyn)\n",
        "y_pred = random_forest.predict(X_test)\n",
        "cm=confusion_matrix(y_test,y_pred)\n",
        "conf_matrix=pd.DataFrame(data=cm,columns=['Predicted:0','Predicted:1'],index=['Actual:0','Actual:1'])\n",
        "plt.figure(figsize = (8,5))\n",
        "sns.heatmap(conf_matrix, annot=True,fmt='d',cmap=\"YlGnBu\");\n",
        "print(accuracy_score(y_test,y_pred))\n",
        "print(classification_report(y_test,y_pred))\n",
        "confusion_matrix(y_test,y_pred)\n"
      ]
    },
    {
      "cell_type": "code",
      "execution_count": null,
      "metadata": {
        "colab": {
          "base_uri": "https://localhost:8080/"
        },
        "id": "6YHEfQmw9D0I",
        "outputId": "75d32fe8-6939-4c4a-f220-dec668fef1fd"
      },
      "outputs": [
        {
          "output_type": "stream",
          "name": "stdout",
          "text": [
            "Sensitivity:- 0.8163265306122449\n",
            "Precsison:- 0.898876404494382\n",
            "F1-Score:- 0.8556149732620321\n",
            "TPR:- 0.8163265306122449\n",
            "FPR:- 0.00015827236916150816\n"
          ]
        }
      ],
      "source": [
        "TP = cm[1,1] # true positive \n",
        "TN = cm[0,0] # true negatives\n",
        "FP = cm[0,1] # false positives\n",
        "FN = cm[1,0] # false negatives\n",
        "print(\"Sensitivity:-\",TP / float(TP+FN))\n",
        "print(\"Precsison:-\", TP / float(TP+FP))\n",
        "print(\"F1-Score:-\", f1_score(y_test, y_pred))\n",
        "print(\"TPR:-\", TP / float(TP+FN))\n",
        "print(\"FPR:-\", FP / float(FP+TN))"
      ]
    },
    {
      "cell_type": "code",
      "execution_count": null,
      "metadata": {
        "colab": {
          "base_uri": "https://localhost:8080/",
          "height": 528
        },
        "id": "ck-r3dt99HCJ",
        "outputId": "2c4554cc-ce3e-44e5-b2a3-5150421b0182"
      },
      "outputs": [
        {
          "output_type": "stream",
          "name": "stdout",
          "text": [
            "0.9980864435939749\n",
            "              precision    recall  f1-score   support\n",
            "\n",
            "           0       1.00      1.00      1.00     56864\n",
            "           1       0.47      0.87      0.61        98\n",
            "\n",
            "    accuracy                           1.00     56962\n",
            "   macro avg       0.73      0.93      0.80     56962\n",
            "weighted avg       1.00      1.00      1.00     56962\n",
            "\n"
          ]
        },
        {
          "output_type": "execute_result",
          "data": {
            "text/plain": [
              "array([[56768,    96],\n",
              "       [   13,    85]])"
            ]
          },
          "metadata": {},
          "execution_count": 77
        },
        {
          "output_type": "display_data",
          "data": {
            "image/png": "[encoded data removed]",
            "text/plain": [
              "<Figure size 576x360 with 2 Axes>"
            ]
          },
          "metadata": {
            "needs_background": "light"
          }
        }
      ],
      "source": [
        "knn = KNeighborsClassifier(n_neighbors =5)\n",
        "knn.fit(X_train_adasyn, y_train_adasyn)\n",
        "y_pred = knn.predict(X_test)\n",
        "cm=confusion_matrix(y_test,y_pred)\n",
        "conf_matrix=pd.DataFrame(data=cm,columns=['Predicted:0','Predicted:1'],index=['Actual:0','Actual:1'])\n",
        "plt.figure(figsize = (8,5))\n",
        "sns.heatmap(conf_matrix, annot=True,fmt='d',cmap=\"YlGnBu\");\n",
        "print(accuracy_score(y_test,y_pred))\n",
        "print(classification_report(y_test,y_pred))\n",
        "confusion_matrix(y_test,y_pred)"
      ]
    },
    {
      "cell_type": "code",
      "execution_count": null,
      "metadata": {
        "colab": {
          "base_uri": "https://localhost:8080/"
        },
        "id": "Pse74C4J9LM6",
        "outputId": "1a0e2a78-c843-4f65-da12-7ae44c59d481"
      },
      "outputs": [
        {
          "output_type": "stream",
          "name": "stdout",
          "text": [
            "Sensitivity:- 0.8673469387755102\n",
            "Precsison:- 0.4696132596685083\n",
            "F1-Score:- 0.6093189964157706\n",
            "TPR:- 0.8673469387755102\n",
            "FPR:- 0.0016882386043894203\n"
          ]
        }
      ],
      "source": [
        "TP = cm[1,1] # true positive \n",
        "TN = cm[0,0] # true negatives\n",
        "FP = cm[0,1] # false positives\n",
        "FN = cm[1,0] # false negatives\n",
        "print(\"Sensitivity:-\",TP / float(TP+FN))\n",
        "print(\"Precsison:-\", TP / float(TP+FP))\n",
        "print(\"F1-Score:-\", f1_score(y_test, y_pred))\n",
        "print(\"TPR:-\", TP / float(TP+FN))\n",
        "print(\"FPR:-\", FP / float(FP+TN))"
      ]
    },
    {
      "cell_type": "code",
      "execution_count": null,
      "metadata": {
        "colab": {
          "base_uri": "https://localhost:8080/",
          "height": 528
        },
        "id": "aZGL2Llo9OeT",
        "outputId": "ebefd920-23a5-477e-8b06-134417570461"
      },
      "outputs": [
        {
          "output_type": "stream",
          "name": "stdout",
          "text": [
            "0.958849759488782\n",
            "              precision    recall  f1-score   support\n",
            "\n",
            "           0       1.00      0.96      0.98     56864\n",
            "           1       0.04      0.91      0.07        98\n",
            "\n",
            "    accuracy                           0.96     56962\n",
            "   macro avg       0.52      0.93      0.52     56962\n",
            "weighted avg       1.00      0.96      0.98     56962\n",
            "\n"
          ]
        },
        {
          "output_type": "execute_result",
          "data": {
            "text/plain": [
              "array([[54529,  2335],\n",
              "       [    9,    89]])"
            ]
          },
          "metadata": {},
          "execution_count": 79
        },
        {
          "output_type": "display_data",
          "data": {
            "image/png": "[encoded data removed]",
            "text/plain": [
              "<Figure size 576x360 with 2 Axes>"
            ]
          },
          "metadata": {
            "needs_background": "light"
          }
        }
      ],
      "source": [
        "classifier = GaussianNB()  \n",
        "classifier.fit(X_train_adasyn, y_train_adasyn)\n",
        "y_pred = classifier.predict(X_test)\n",
        "cm=confusion_matrix(y_test,y_pred)\n",
        "conf_matrix=pd.DataFrame(data=cm,columns=['Predicted:0','Predicted:1'],index=['Actual:0','Actual:1'])\n",
        "plt.figure(figsize = (8,5))\n",
        "sns.heatmap(conf_matrix, annot=True,fmt='d',cmap=\"YlGnBu\");\n",
        "print(accuracy_score(y_test,y_pred))\n",
        "print(classification_report(y_test,y_pred))\n",
        "confusion_matrix(y_test,y_pred)"
      ]
    },
    {
      "cell_type": "code",
      "execution_count": null,
      "metadata": {
        "colab": {
          "base_uri": "https://localhost:8080/"
        },
        "id": "MjmPkIGO9U4Y",
        "outputId": "9323002a-a5dd-477b-db60-0c5769cfd5c0"
      },
      "outputs": [
        {
          "output_type": "stream",
          "name": "stdout",
          "text": [
            "Sensitivity:- 0.9081632653061225\n",
            "Precsison:- 0.036716171617161716\n",
            "F1-Score:- 0.07057890563045202\n",
            "TPR:- 0.9081632653061225\n",
            "FPR:- 0.0410628868880135\n"
          ]
        }
      ],
      "source": [
        "TP = cm[1,1] # true positive \n",
        "TN = cm[0,0] # true negatives\n",
        "FP = cm[0,1] # false positives\n",
        "FN = cm[1,0] # false negatives\n",
        "print(\"Sensitivity:-\",TP / float(TP+FN))\n",
        "print(\"Precsison:-\", TP / float(TP+FP))\n",
        "print(\"F1-Score:-\", f1_score(y_test, y_pred))\n",
        "print(\"TPR:-\", TP / float(TP+FN))\n",
        "print(\"FPR:-\", FP / float(FP+TN))"
      ]
    },
    {
      "cell_type": "markdown",
      "metadata": {
        "id": "tgzymd0XUYYw"
      },
      "source": [
        "# Over Sampling"
      ]
    },
    {
      "cell_type": "code",
      "execution_count": null,
      "metadata": {
        "id": "Tog6xNmKsszo"
      },
      "outputs": [],
      "source": [
        "\n",
        "from imblearn.over_sampling import RandomOverSampler\n"
      ]
    },
    {
      "cell_type": "code",
      "execution_count": null,
      "metadata": {
        "id": "3fnugh2Jhiba"
      },
      "outputs": [],
      "source": [
        "ros = RandomOverSampler()\n",
        "# resampling X, y\n",
        "X_train_ros, y_train_ros = ros.fit_resample(X_train, y_train)"
      ]
    },
    {
      "cell_type": "code",
      "source": [
        "# X_train, X_test, y_train, y_test = train_test_split(X_train_ros, y_train_ros, test_size = 0.3)"
      ],
      "metadata": {
        "id": "IU-cuGtHi8Cx"
      },
      "execution_count": null,
      "outputs": []
    },
    {
      "cell_type": "code",
      "execution_count": null,
      "metadata": {
        "colab": {
          "base_uri": "https://localhost:8080/"
        },
        "id": "ZFlt1CwtTxtr",
        "outputId": "d9fda077-105f-46fe-a4f5-af92ec2eea50"
      },
      "outputs": [
        {
          "output_type": "stream",
          "name": "stdout",
          "text": [
            "Before sampling class distribution:- Counter({0: 227451, 1: 394})\n",
            "New class distribution:- Counter({0: 227451, 1: 227451})\n"
          ]
        }
      ],
      "source": [
        "print('Before sampling class distribution:-',Counter(y_train))\n",
        "# new class distribution \n",
        "print('New class distribution:-',Counter(y_train_ros))"
      ]
    },
    {
      "cell_type": "code",
      "execution_count": null,
      "metadata": {
        "colab": {
          "base_uri": "https://localhost:8080/",
          "height": 420
        },
        "id": "HdQ1KPFt-ZjE",
        "outputId": "581d5f90-6391-46e4-fa69-38bddbede1c0"
      },
      "outputs": [
        {
          "output_type": "stream",
          "name": "stderr",
          "text": [
            "/usr/local/lib/python3.7/dist-packages/seaborn/_decorators.py:43: FutureWarning: Pass the following variable as a keyword arg: x. From version 0.12, the only valid positional argument will be `data`, and passing other arguments without an explicit keyword will result in an error or misinterpretation.\n",
            "  FutureWarning\n"
          ]
        },
        {
          "output_type": "display_data",
          "data": {
            "image/png": "[encoded data removed]",
            "text/plain": [
              "<Figure size 360x360 with 1 Axes>"
            ]
          },
          "metadata": {
            "needs_background": "light"
          }
        }
      ],
      "source": [
        "plt.figure(figsize=(5,5))\n",
        "plt.title('Distribution of Target Variables After Over-sampling \\n(0 = Genuine | 1 = Fraudulent)')\n",
        "sns.countplot(y_train_ros);"
      ]
    },
    {
      "cell_type": "code",
      "execution_count": null,
      "metadata": {
        "colab": {
          "base_uri": "https://localhost:8080/",
          "height": 528
        },
        "id": "iFv9sMeMUgiO",
        "outputId": "35348e7e-1011-4ec0-8d91-9a154939388e"
      },
      "outputs": [
        {
          "output_type": "stream",
          "name": "stdout",
          "text": [
            "0.9796882131947614\n",
            "              precision    recall  f1-score   support\n",
            "\n",
            "           0       1.00      0.98      0.99     56864\n",
            "           1       0.07      0.93      0.14        98\n",
            "\n",
            "    accuracy                           0.98     56962\n",
            "   macro avg       0.54      0.95      0.56     56962\n",
            "weighted avg       1.00      0.98      0.99     56962\n",
            "\n"
          ]
        },
        {
          "output_type": "execute_result",
          "data": {
            "text/plain": [
              "array([[55714,  1150],\n",
              "       [    7,    91]])"
            ]
          },
          "metadata": {},
          "execution_count": 89
        },
        {
          "output_type": "display_data",
          "data": {
            "image/png": "[encoded data removed]",
            "text/plain": [
              "<Figure size 576x360 with 2 Axes>"
            ]
          },
          "metadata": {
            "needs_background": "light"
          }
        }
      ],
      "source": [
        "model = LogisticRegression(C=0.001)\n",
        "model.fit(X_train_ros,y_train_ros)\n",
        "y_pred = model.predict(X_test)\n",
        "cm=confusion_matrix(y_test,y_pred)\n",
        "conf_matrix=pd.DataFrame(data=cm,columns=['Predicted:0','Predicted:1'],index=['Actual:0','Actual:1'])\n",
        "plt.figure(figsize = (8,5))\n",
        "sns.heatmap(conf_matrix, annot=True,fmt='d',cmap=\"YlGnBu\");\n",
        "print(accuracy_score(y_test,y_pred))\n",
        "print(classification_report(y_test,y_pred))\n",
        "confusion_matrix(y_test,y_pred)"
      ]
    },
    {
      "cell_type": "code",
      "execution_count": null,
      "metadata": {
        "colab": {
          "base_uri": "https://localhost:8080/"
        },
        "id": "UbUzK9kLU7B8",
        "outputId": "676b818f-c877-4b42-ca03-1b3c6803edca"
      },
      "outputs": [
        {
          "output_type": "stream",
          "name": "stdout",
          "text": [
            "Sensitivity:- 0.9285714285714286\n",
            "Precsison:- 0.07332796132151491\n",
            "F1-Score:- 0.13592233009708737\n",
            "TPR:- 0.9285714285714286\n",
            "FPR:- 0.0202236916150816\n"
          ]
        }
      ],
      "source": [
        "TP = cm[1,1] # true positive \n",
        "TN = cm[0,0] # true negatives\n",
        "FP = cm[0,1] # false positives\n",
        "FN = cm[1,0] # false negatives\n",
        "print(\"Sensitivity:-\",TP / float(TP+FN))\n",
        "print(\"Precsison:-\", TP / float(TP+FP))\n",
        "print(\"F1-Score:-\", f1_score(y_test, y_pred))\n",
        "print(\"TPR:-\", TP / float(TP+FN))\n",
        "print(\"FPR:-\", FP / float(FP+TN))"
      ]
    },
    {
      "cell_type": "code",
      "execution_count": null,
      "metadata": {
        "colab": {
          "base_uri": "https://localhost:8080/",
          "height": 528
        },
        "id": "faQvq7HYWp6E",
        "outputId": "44ea1f87-5921-4f97-9503-91a757c7cbec"
      },
      "outputs": [
        {
          "output_type": "stream",
          "name": "stdout",
          "text": [
            "0.9620799831466592\n",
            "              precision    recall  f1-score   support\n",
            "\n",
            "           0       1.00      0.96      0.98     56864\n",
            "           1       0.04      0.86      0.07        98\n",
            "\n",
            "    accuracy                           0.96     56962\n",
            "   macro avg       0.52      0.91      0.53     56962\n",
            "weighted avg       1.00      0.96      0.98     56962\n",
            "\n"
          ]
        },
        {
          "output_type": "execute_result",
          "data": {
            "text/plain": [
              "array([[54718,  2146],\n",
              "       [   14,    84]])"
            ]
          },
          "metadata": {},
          "execution_count": 91
        },
        {
          "output_type": "display_data",
          "data": {
            "image/png": "[encoded data removed]",
            "text/plain": [
              "<Figure size 576x360 with 2 Axes>"
            ]
          },
          "metadata": {
            "needs_background": "light"
          }
        }
      ],
      "source": [
        "decision_tree = DecisionTreeClassifier(criterion = \"gini\", \n",
        "                                  random_state = 100,\n",
        "                                  max_depth=5, \n",
        "                                  min_samples_leaf=100,\n",
        "                                  min_samples_split=100)\n",
        "decision_tree.fit(X_train_ros,y_train_ros)\n",
        "\n",
        "y_pred = decision_tree.predict(X_test)\n",
        "cm=confusion_matrix(y_test,y_pred)\n",
        "conf_matrix=pd.DataFrame(data=cm,columns=['Predicted:0','Predicted:1'],index=['Actual:0','Actual:1'])\n",
        "plt.figure(figsize = (8,5))\n",
        "sns.heatmap(conf_matrix, annot=True,fmt='d',cmap=\"YlGnBu\");\n",
        "print(accuracy_score(y_test,y_pred))\n",
        "print(classification_report(y_test,y_pred))\n",
        "confusion_matrix(y_test,y_pred)"
      ]
    },
    {
      "cell_type": "code",
      "execution_count": null,
      "metadata": {
        "id": "9iG-KUVhx7hp"
      },
      "outputs": [],
      "source": [
        ""
      ]
    },
    {
      "cell_type": "code",
      "execution_count": null,
      "metadata": {
        "colab": {
          "base_uri": "https://localhost:8080/"
        },
        "id": "fne7CC7zydk1",
        "outputId": "97a6bd55-8ac0-4f2a-ec24-eaa85f34fb91"
      },
      "outputs": [
        {
          "output_type": "stream",
          "name": "stdout",
          "text": [
            "Sensitivity:- 0.8571428571428571\n",
            "Precsison:- 0.03766816143497758\n",
            "F1-Score:- 0.07216494845360825\n",
            "TPR:- 0.8571428571428571\n",
            "FPR:- 0.03773916713562184\n"
          ]
        }
      ],
      "source": [
        "TP = cm[1,1] # true positive \n",
        "TN = cm[0,0] # true negatives\n",
        "FP = cm[0,1] # false positives\n",
        "FN = cm[1,0] # false negatives\n",
        "print(\"Sensitivity:-\",TP / float(TP+FN))\n",
        "print(\"Precsison:-\", TP / float(TP+FP))\n",
        "print(\"F1-Score:-\", f1_score(y_test, y_pred))\n",
        "print(\"TPR:-\", TP / float(TP+FN))\n",
        "print(\"FPR:-\", FP / float(FP+TN))"
      ]
    },
    {
      "cell_type": "code",
      "execution_count": null,
      "metadata": {
        "colab": {
          "base_uri": "https://localhost:8080/",
          "height": 528
        },
        "id": "IawxyaIQ3Sm9",
        "outputId": "4821a8c9-46d8-437a-bab5-291e4a6a87ed"
      },
      "outputs": [
        {
          "output_type": "stream",
          "name": "stdout",
          "text": [
            "0.9996488887328394\n",
            "              precision    recall  f1-score   support\n",
            "\n",
            "           0       1.00      1.00      1.00     56864\n",
            "           1       0.99      0.81      0.89        98\n",
            "\n",
            "    accuracy                           1.00     56962\n",
            "   macro avg       0.99      0.90      0.94     56962\n",
            "weighted avg       1.00      1.00      1.00     56962\n",
            "\n"
          ]
        },
        {
          "output_type": "execute_result",
          "data": {
            "text/plain": [
              "array([[56863,     1],\n",
              "       [   19,    79]])"
            ]
          },
          "metadata": {},
          "execution_count": 93
        },
        {
          "output_type": "display_data",
          "data": {
            "image/png": "[encoded data removed]",
            "text/plain": [
              "<Figure size 576x360 with 2 Axes>"
            ]
          },
          "metadata": {
            "needs_background": "light"
          }
        }
      ],
      "source": [
        "random_forest = RandomForestClassifier(n_estimators=50, criterion='entropy',random_state=100)\n",
        "random_forest.fit(X_train_ros,y_train_ros)\n",
        "y_pred = random_forest.predict(X_test)\n",
        "cm=confusion_matrix(y_test,y_pred)\n",
        "conf_matrix=pd.DataFrame(data=cm,columns=['Predicted:0','Predicted:1'],index=['Actual:0','Actual:1'])\n",
        "plt.figure(figsize = (8,5))\n",
        "sns.heatmap(conf_matrix, annot=True,fmt='d',cmap=\"YlGnBu\");\n",
        "print(accuracy_score(y_test,y_pred))\n",
        "print(classification_report(y_test,y_pred))\n",
        "confusion_matrix(y_test,y_pred)"
      ]
    },
    {
      "cell_type": "code",
      "execution_count": null,
      "metadata": {
        "colab": {
          "base_uri": "https://localhost:8080/"
        },
        "id": "kwBUiSof_J2Q",
        "outputId": "54b9c4f3-cd01-40b7-bd6a-4acee75a8512"
      },
      "outputs": [
        {
          "output_type": "stream",
          "name": "stdout",
          "text": [
            "Sensitivity:- 0.8061224489795918\n",
            "Precsison:- 0.9875\n",
            "F1-Score:- 0.8876404494382023\n",
            "TPR:- 0.8061224489795918\n",
            "FPR:- 1.758581879572313e-05\n"
          ]
        }
      ],
      "source": [
        "TP = cm[1,1] # true positive \n",
        "TN = cm[0,0] # true negatives\n",
        "FP = cm[0,1] # false positives\n",
        "FN = cm[1,0] # false negatives\n",
        "print(\"Sensitivity:-\",TP / float(TP+FN))\n",
        "print(\"Precsison:-\", TP / float(TP+FP))\n",
        "print(\"F1-Score:-\", f1_score(y_test, y_pred))\n",
        "print(\"TPR:-\", TP / float(TP+FN))\n",
        "print(\"FPR:-\", FP / float(FP+TN))"
      ]
    },
    {
      "cell_type": "code",
      "execution_count": null,
      "metadata": {
        "colab": {
          "base_uri": "https://localhost:8080/",
          "height": 528
        },
        "id": "dehg4_mZy0Xe",
        "outputId": "d12ac01a-5ab8-43e0-c6c9-38682965eee3"
      },
      "outputs": [
        {
          "output_type": "stream",
          "name": "stdout",
          "text": [
            "0.9991573329588147\n",
            "              precision    recall  f1-score   support\n",
            "\n",
            "           0       1.00      1.00      1.00     56864\n",
            "           1       0.71      0.87      0.78        98\n",
            "\n",
            "    accuracy                           1.00     56962\n",
            "   macro avg       0.85      0.93      0.89     56962\n",
            "weighted avg       1.00      1.00      1.00     56962\n",
            "\n"
          ]
        },
        {
          "output_type": "execute_result",
          "data": {
            "text/plain": [
              "array([[56829,    35],\n",
              "       [   13,    85]])"
            ]
          },
          "metadata": {},
          "execution_count": 95
        },
        {
          "output_type": "display_data",
          "data": {
            "image/png": "[encoded data removed]",
            "text/plain": [
              "<Figure size 576x360 with 2 Axes>"
            ]
          },
          "metadata": {
            "needs_background": "light"
          }
        }
      ],
      "source": [
        "knn = KNeighborsClassifier(n_neighbors =5)\n",
        "knn.fit(X_train_ros,y_train_ros)\n",
        "y_pred = knn.predict(X_test)\n",
        "cm=confusion_matrix(y_test,y_pred)\n",
        "conf_matrix=pd.DataFrame(data=cm,columns=['Predicted:0','Predicted:1'],index=['Actual:0','Actual:1'])\n",
        "plt.figure(figsize = (8,5))\n",
        "sns.heatmap(conf_matrix, annot=True,fmt='d',cmap=\"YlGnBu\");\n",
        "print(accuracy_score(y_test,y_pred))\n",
        "print(classification_report(y_test,y_pred))\n",
        "confusion_matrix(y_test,y_pred)\n"
      ]
    },
    {
      "cell_type": "code",
      "execution_count": null,
      "metadata": {
        "colab": {
          "base_uri": "https://localhost:8080/"
        },
        "id": "8oJfm5ViVaIh",
        "outputId": "584bce28-09fc-49fc-916b-79c3bdcf380f"
      },
      "outputs": [
        {
          "output_type": "stream",
          "name": "stdout",
          "text": [
            "Sensitivity:- 0.8673469387755102\n",
            "Precsison:- 0.7083333333333334\n",
            "F1-Score:- 0.7798165137614678\n",
            "TPR:- 0.8673469387755102\n",
            "FPR:- 0.0006155036578503095\n"
          ]
        },
        {
          "output_type": "execute_result",
          "data": {
            "text/plain": [
              "13"
            ]
          },
          "metadata": {},
          "execution_count": 96
        }
      ],
      "source": [
        "TP = cm[1,1] # true positive \n",
        "TN = cm[0,0] # true negatives\n",
        "FP = cm[0,1] # false positives\n",
        "FN = cm[1,0] # false negatives\n",
        "print(\"Sensitivity:-\",TP / float(TP+FN))\n",
        "print(\"Precsison:-\", TP / float(TP+FP))\n",
        "print(\"F1-Score:-\", f1_score(y_test, y_pred))\n",
        "print(\"TPR:-\", TP / float(TP+FN))\n",
        "print(\"FPR:-\", FP / float(FP+TN))\n",
        "TP\n",
        "TN\n",
        "FP\n",
        "FN"
      ]
    },
    {
      "cell_type": "code",
      "execution_count": null,
      "metadata": {
        "colab": {
          "base_uri": "https://localhost:8080/",
          "height": 528
        },
        "id": "7kZEcKjOVg7X",
        "outputId": "fa97d7d3-44d3-4475-c932-02a6cf35313e"
      },
      "outputs": [
        {
          "output_type": "stream",
          "name": "stdout",
          "text": [
            "0.9734910993293775\n",
            "              precision    recall  f1-score   support\n",
            "\n",
            "           0       1.00      0.97      0.99     56864\n",
            "           1       0.05      0.87      0.10        98\n",
            "\n",
            "    accuracy                           0.97     56962\n",
            "   macro avg       0.53      0.92      0.54     56962\n",
            "weighted avg       1.00      0.97      0.99     56962\n",
            "\n"
          ]
        },
        {
          "output_type": "execute_result",
          "data": {
            "text/plain": [
              "array([[55367,  1497],\n",
              "       [   13,    85]])"
            ]
          },
          "metadata": {},
          "execution_count": 97
        },
        {
          "output_type": "display_data",
          "data": {
            "image/png": "[encoded data removed]",
            "text/plain": [
              "<Figure size 576x360 with 2 Axes>"
            ]
          },
          "metadata": {
            "needs_background": "light"
          }
        }
      ],
      "source": [
        "classifier = GaussianNB()  \n",
        "classifier.fit(X_train_ros, y_train_ros)\n",
        "y_pred = classifier.predict(X_test)\n",
        "cm=confusion_matrix(y_test,y_pred)\n",
        "conf_matrix=pd.DataFrame(data=cm,columns=['Predicted:0','Predicted:1'],index=['Actual:0','Actual:1'])\n",
        "plt.figure(figsize = (8,5))\n",
        "sns.heatmap(conf_matrix, annot=True,fmt='d',cmap=\"YlGnBu\");\n",
        "print(accuracy_score(y_test,y_pred))\n",
        "print(classification_report(y_test,y_pred))\n",
        "confusion_matrix(y_test,y_pred)"
      ]
    },
    {
      "cell_type": "code",
      "execution_count": null,
      "metadata": {
        "colab": {
          "base_uri": "https://localhost:8080/"
        },
        "id": "NNvkOiuXVplv",
        "outputId": "df2232c0-84e9-4153-b54b-3bfcddecd039"
      },
      "outputs": [
        {
          "output_type": "stream",
          "name": "stdout",
          "text": [
            "Sensitivity:- 0.8673469387755102\n",
            "Precsison:- 0.053729456384323644\n",
            "F1-Score:- 0.10119047619047618\n",
            "TPR:- 0.8673469387755102\n",
            "FPR:- 0.026325970737197522\n"
          ]
        },
        {
          "output_type": "execute_result",
          "data": {
            "text/plain": [
              "1497"
            ]
          },
          "metadata": {},
          "execution_count": 98
        }
      ],
      "source": [
        "TP = cm[1,1] # true positive \n",
        "TN = cm[0,0] # true negatives\n",
        "FP = cm[0,1] # false positives\n",
        "FN = cm[1,0]\n",
        "print(\"Sensitivity:-\",TP / float(TP+FN))\n",
        "print(\"Precsison:-\", TP / float(TP+FP))\n",
        "print(\"F1-Score:-\", f1_score(y_test, y_pred))\n",
        "print(\"TPR:-\", TP / float(TP+FN))\n",
        "print(\"FPR:-\", FP / float(FP+TN))\n",
        "FP"
      ]
    }
  ],
  "metadata": {
    "colab": {
      "collapsed_sections": [
        "aT66XbKQgy8V",
        "Sm_k9GNvhFQW",
        "8UOlBkeLj48p",
        "nhQGzaG-kuvi",
        "eXIZCrLvlweb",
        "Y75d4pqbd7MZ",
        "grbu5Jzjlu96",
        "VZkJZulyXaCE"
      ],
      "name": "Final Work.ipynb",
      "provenance": []
    },
    "kernelspec": {
      "display_name": "Python 3",
      "name": "python3"
    },
    "language_info": {
      "name": "python"
    }
  },
  "nbformat": 4,
  "nbformat_minor": 0
}